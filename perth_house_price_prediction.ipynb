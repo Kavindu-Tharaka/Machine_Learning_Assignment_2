{
 "cells": [
  {
   "cell_type": "markdown",
   "metadata": {},
   "source": [
    "<h1 style='color:#205be6' align='center'>ESTIMATING HOUSE PRICES USING DIFFERENT REGRESSION MODELS AND COMPARE THE PERFORMANCE OF THE MODELS.</h1>"
   ]
  },
  {
   "cell_type": "markdown",
   "metadata": {},
   "source": [
    "Link for the Dataset: https://www.kaggle.com/syuzai/perth-house-prices"
   ]
  },
  {
   "cell_type": "code",
   "execution_count": 1,
   "metadata": {},
   "outputs": [],
   "source": [
    "import pandas as pd\n",
    "import numpy as np\n",
    "import seaborn as sns\n",
    "import matplotlib\n",
    "from matplotlib import pyplot as plt\n",
    "\n",
    "from sklearn.model_selection import train_test_split\n",
    "\n",
    "from sklearn.linear_model import LinearRegression, Ridge\n",
    "from sklearn.tree import DecisionTreeRegressor\n",
    "from sklearn.neural_network import MLPRegressor\n",
    "\n",
    "from sklearn.model_selection import ShuffleSplit\n",
    "from sklearn.model_selection import cross_val_score\n",
    "from sklearn.metrics import mean_squared_error\n",
    "\n",
    "matplotlib.rcParams[\"figure.figsize\"] = (12, 12)\n",
    "import warnings\n",
    "warnings.filterwarnings(action='ignore')"
   ]
  },
  {
   "cell_type": "markdown",
   "metadata": {},
   "source": [
    "<h2 style='color:#205be6'>Load data into a Data Frame</h2>"
   ]
  },
  {
   "cell_type": "code",
   "execution_count": 2,
   "metadata": {
    "scrolled": true
   },
   "outputs": [
    {
     "data": {
      "text/html": [
       "<div>\n",
       "<style scoped>\n",
       "    .dataframe tbody tr th:only-of-type {\n",
       "        vertical-align: middle;\n",
       "    }\n",
       "\n",
       "    .dataframe tbody tr th {\n",
       "        vertical-align: top;\n",
       "    }\n",
       "\n",
       "    .dataframe thead th {\n",
       "        text-align: right;\n",
       "    }\n",
       "</style>\n",
       "<table border=\"1\" class=\"dataframe\">\n",
       "  <thead>\n",
       "    <tr style=\"text-align: right;\">\n",
       "      <th></th>\n",
       "      <th>ADDRESS</th>\n",
       "      <th>SUBURB</th>\n",
       "      <th>PRICE</th>\n",
       "      <th>BEDROOMS</th>\n",
       "      <th>BATHROOMS</th>\n",
       "      <th>GARAGE</th>\n",
       "      <th>LAND_AREA</th>\n",
       "      <th>FLOOR_AREA</th>\n",
       "      <th>BUILD_YEAR</th>\n",
       "      <th>CBD_DIST</th>\n",
       "      <th>NEAREST_STN</th>\n",
       "      <th>NEAREST_STN_DIST</th>\n",
       "      <th>DATE_SOLD</th>\n",
       "      <th>POSTCODE</th>\n",
       "      <th>LATITUDE</th>\n",
       "      <th>LONGITUDE</th>\n",
       "      <th>NEAREST_SCH</th>\n",
       "      <th>NEAREST_SCH_DIST</th>\n",
       "      <th>NEAREST_SCH_RANK</th>\n",
       "    </tr>\n",
       "  </thead>\n",
       "  <tbody>\n",
       "    <tr>\n",
       "      <th>0</th>\n",
       "      <td>1 Acorn Place</td>\n",
       "      <td>South Lake</td>\n",
       "      <td>565000</td>\n",
       "      <td>4</td>\n",
       "      <td>2</td>\n",
       "      <td>2.0</td>\n",
       "      <td>600</td>\n",
       "      <td>160</td>\n",
       "      <td>2003.0</td>\n",
       "      <td>18300</td>\n",
       "      <td>Cockburn Central Station</td>\n",
       "      <td>1800</td>\n",
       "      <td>09-2018\\r</td>\n",
       "      <td>6164</td>\n",
       "      <td>-32.115900</td>\n",
       "      <td>115.842450</td>\n",
       "      <td>LAKELAND SENIOR HIGH SCHOOL</td>\n",
       "      <td>0.828339</td>\n",
       "      <td>NaN</td>\n",
       "    </tr>\n",
       "    <tr>\n",
       "      <th>1</th>\n",
       "      <td>1 Addis Way</td>\n",
       "      <td>Wandi</td>\n",
       "      <td>365000</td>\n",
       "      <td>3</td>\n",
       "      <td>2</td>\n",
       "      <td>2.0</td>\n",
       "      <td>351</td>\n",
       "      <td>139</td>\n",
       "      <td>2013.0</td>\n",
       "      <td>26900</td>\n",
       "      <td>Kwinana Station</td>\n",
       "      <td>4900</td>\n",
       "      <td>02-2019\\r</td>\n",
       "      <td>6167</td>\n",
       "      <td>-32.193470</td>\n",
       "      <td>115.859553</td>\n",
       "      <td>ATWELL COLLEGE</td>\n",
       "      <td>5.524324</td>\n",
       "      <td>129.0</td>\n",
       "    </tr>\n",
       "    <tr>\n",
       "      <th>2</th>\n",
       "      <td>1 Ainsley Court</td>\n",
       "      <td>Camillo</td>\n",
       "      <td>287000</td>\n",
       "      <td>3</td>\n",
       "      <td>1</td>\n",
       "      <td>1.0</td>\n",
       "      <td>719</td>\n",
       "      <td>86</td>\n",
       "      <td>1979.0</td>\n",
       "      <td>22600</td>\n",
       "      <td>Challis Station</td>\n",
       "      <td>1900</td>\n",
       "      <td>06-2015\\r</td>\n",
       "      <td>6111</td>\n",
       "      <td>-32.120578</td>\n",
       "      <td>115.993579</td>\n",
       "      <td>KELMSCOTT SENIOR HIGH SCHOOL</td>\n",
       "      <td>1.649178</td>\n",
       "      <td>113.0</td>\n",
       "    </tr>\n",
       "  </tbody>\n",
       "</table>\n",
       "</div>"
      ],
      "text/plain": [
       "           ADDRESS      SUBURB   PRICE  BEDROOMS  BATHROOMS  GARAGE  \\\n",
       "0    1 Acorn Place  South Lake  565000         4          2     2.0   \n",
       "1      1 Addis Way       Wandi  365000         3          2     2.0   \n",
       "2  1 Ainsley Court     Camillo  287000         3          1     1.0   \n",
       "\n",
       "   LAND_AREA  FLOOR_AREA  BUILD_YEAR  CBD_DIST               NEAREST_STN  \\\n",
       "0        600         160      2003.0     18300  Cockburn Central Station   \n",
       "1        351         139      2013.0     26900           Kwinana Station   \n",
       "2        719          86      1979.0     22600           Challis Station   \n",
       "\n",
       "   NEAREST_STN_DIST  DATE_SOLD  POSTCODE   LATITUDE   LONGITUDE  \\\n",
       "0              1800  09-2018\\r      6164 -32.115900  115.842450   \n",
       "1              4900  02-2019\\r      6167 -32.193470  115.859553   \n",
       "2              1900  06-2015\\r      6111 -32.120578  115.993579   \n",
       "\n",
       "                    NEAREST_SCH  NEAREST_SCH_DIST  NEAREST_SCH_RANK  \n",
       "0   LAKELAND SENIOR HIGH SCHOOL          0.828339               NaN  \n",
       "1                ATWELL COLLEGE          5.524324             129.0  \n",
       "2  KELMSCOTT SENIOR HIGH SCHOOL          1.649178             113.0  "
      ]
     },
     "execution_count": 2,
     "metadata": {},
     "output_type": "execute_result"
    }
   ],
   "source": [
    "df1 = pd.read_csv('perth_house_data.csv')\n",
    "\n",
    "# head(3) will print first 3 rows of the calling dataset\n",
    "df1.head(3) "
   ]
  },
  {
   "cell_type": "markdown",
   "metadata": {},
   "source": [
    "<h2 style='color:#205be6'>Analyze the Data</h2>"
   ]
  },
  {
   "cell_type": "code",
   "execution_count": 3,
   "metadata": {},
   "outputs": [
    {
     "data": {
      "text/plain": [
       "(33656, 19)"
      ]
     },
     "execution_count": 3,
     "metadata": {},
     "output_type": "execute_result"
    }
   ],
   "source": [
    "# see number of rows, number of columns\n",
    "\n",
    "df1.shape"
   ]
  },
  {
   "cell_type": "code",
   "execution_count": 4,
   "metadata": {},
   "outputs": [
    {
     "data": {
      "text/plain": [
       "Index(['ADDRESS', 'SUBURB', 'PRICE', 'BEDROOMS', 'BATHROOMS', 'GARAGE',\n",
       "       'LAND_AREA', 'FLOOR_AREA', 'BUILD_YEAR', 'CBD_DIST', 'NEAREST_STN',\n",
       "       'NEAREST_STN_DIST', 'DATE_SOLD', 'POSTCODE', 'LATITUDE', 'LONGITUDE',\n",
       "       'NEAREST_SCH', 'NEAREST_SCH_DIST', 'NEAREST_SCH_RANK'],\n",
       "      dtype='object')"
      ]
     },
     "execution_count": 4,
     "metadata": {},
     "output_type": "execute_result"
    }
   ],
   "source": [
    "# see columns names\n",
    "\n",
    "df1.columns"
   ]
  },
  {
   "cell_type": "markdown",
   "metadata": {},
   "source": [
    "#### Column Description\n",
    "\n",
    "* ADDRESS : Address of the house    <br />\n",
    "* SUBURB : Specific locality in Perth    <br />\n",
    "* PRICE : Price of the house in AUD    <br />\n",
    "* BEDROOMS : Number of bedrooms    <br />\n",
    "* BATHROOMS : Number of bathrooms    <br />\n",
    "* GARAGE : Number of garages    <br />\n",
    "* LAND_AREA : Total land area (Square Meters)    <br />\n",
    "* FLOOR_AREA : Internal floor area (Square Meters)    <br />\n",
    "* BUILD_YEAR : Build year of the house    <br />\n",
    "* CBD_DIST : Distance from Perth (Meters)    <br />\n",
    "* NEAREST_STN : The nearest public transport station    <br />\n",
    "* NEAREST_STN_DIST : The nearest station distance (Meters)    <br />\n",
    "* DATE_SOLD : Month & year when house was sold    <br />\n",
    "* POSTCODE : Postal code of the area    <br />\n",
    "* LATITUDE : Geographic latitude of ADDRESS    <br />\n",
    "* LONGITUDE : Geographic longitude of ADDRESS    <br />\n",
    "* NEAREST_SCH : Location of the nearest School    <br />\n",
    "* NEAREST_SCH_DIST : Distance to the nearest school (Kilo Meters)    <br />\n",
    "* NEAREST_SCH_RANK : Ranking of the nearest school    <br />"
   ]
  },
  {
   "cell_type": "markdown",
   "metadata": {},
   "source": [
    "<p style='color:#d61515'>Since ADDRESS, NEAREST_STN, DATE_SOLD, POSTCODE, LATITUDE, LONGITUDE and NEAREST_SCH are not that much important when buying a new house, those features will be dropped when data cleaning.</p>"
   ]
  },
  {
   "cell_type": "code",
   "execution_count": 5,
   "metadata": {},
   "outputs": [
    {
     "data": {
      "text/plain": [
       "ADDRESS              object\n",
       "SUBURB               object\n",
       "PRICE                 int64\n",
       "BEDROOMS              int64\n",
       "BATHROOMS             int64\n",
       "GARAGE              float64\n",
       "LAND_AREA             int64\n",
       "FLOOR_AREA            int64\n",
       "BUILD_YEAR          float64\n",
       "CBD_DIST              int64\n",
       "NEAREST_STN          object\n",
       "NEAREST_STN_DIST      int64\n",
       "DATE_SOLD            object\n",
       "POSTCODE              int64\n",
       "LATITUDE            float64\n",
       "LONGITUDE           float64\n",
       "NEAREST_SCH          object\n",
       "NEAREST_SCH_DIST    float64\n",
       "NEAREST_SCH_RANK    float64\n",
       "dtype: object"
      ]
     },
     "execution_count": 5,
     "metadata": {},
     "output_type": "execute_result"
    }
   ],
   "source": [
    "# See data types of the Columns\n",
    "\n",
    "df1.dtypes"
   ]
  },
  {
   "cell_type": "markdown",
   "metadata": {},
   "source": [
    "<p style='color:#21c43a'>GARAGE, BUILD_YEAR and NEAREST_SCH_RANK features should be integer numbers. But now they are in float data type. Therefore, they will be converted into integers when data cleaning.</p>"
   ]
  },
  {
   "cell_type": "code",
   "execution_count": 6,
   "metadata": {
    "scrolled": false
   },
   "outputs": [
    {
     "name": "stdout",
     "output_type": "stream",
     "text": [
      "Column Name   Unique Values\n",
      "-----------   -------------\n",
      "ADDRESS: \t33566\n",
      "SUBURB: \t321\n",
      "NEAREST_STN: \t68\n",
      "DATE_SOLD: \t350\n",
      "NEAREST_SCH: \t160\n"
     ]
    }
   ],
   "source": [
    "# See how many unique values in the each 'Categorical Column' (Columns that have values other than numbers)\n",
    "\n",
    "print(\"Column Name   Unique Values\")\n",
    "print(\"-----------   -------------\")\n",
    "for column in df1.columns:\n",
    "    if(df1[column].dtypes != df1['GARAGE'].dtypes and df1[column].dtypes != df1['PRICE'].dtypes):\n",
    "        print(column + ': \\t' + str(df1[column].nunique()))\n"
   ]
  },
  {
   "cell_type": "markdown",
   "metadata": {},
   "source": [
    "<p style='color:#d61515'>By seeing above numbers of unique categorical values in each column, we can identify it is hard to work with those columns and also only SUBURB of above features will be used to train the model since SUBURB is an important factor to consider when buying houses. Others will be dropped when data cleaning. Specially almost all values of the ADDRESS column are unique. These kind of columns called High-cardinality columns which are not suitable in regression.</p>"
   ]
  },
  {
   "cell_type": "code",
   "execution_count": 7,
   "metadata": {},
   "outputs": [
    {
     "data": {
      "text/plain": [
       "ADDRESS                 0\n",
       "SUBURB                  0\n",
       "PRICE                   0\n",
       "BEDROOMS                0\n",
       "BATHROOMS               0\n",
       "GARAGE               2478\n",
       "LAND_AREA               0\n",
       "FLOOR_AREA              0\n",
       "BUILD_YEAR           3155\n",
       "CBD_DIST                0\n",
       "NEAREST_STN             0\n",
       "NEAREST_STN_DIST        0\n",
       "DATE_SOLD               0\n",
       "POSTCODE                0\n",
       "LATITUDE                0\n",
       "LONGITUDE               0\n",
       "NEAREST_SCH             0\n",
       "NEAREST_SCH_DIST        0\n",
       "NEAREST_SCH_RANK    10952\n",
       "dtype: int64"
      ]
     },
     "execution_count": 7,
     "metadata": {},
     "output_type": "execute_result"
    }
   ],
   "source": [
    "# See how many null values in each column\n",
    "\n",
    "df1.isnull().sum()"
   ]
  },
  {
   "cell_type": "markdown",
   "metadata": {},
   "source": [
    "<p style='color:#d61515'>NEAREST_SCH_RANK has almost one third of null values. Therefore, that column need be dropped. Otherwise it will lead to inaccuracy of the model when data cleaning.</p>\n",
    "\n",
    "<p style='color:#21c43a'> GARAGE and BUILD_YEAR also have null values. Since those are not that much significant amount, those cells will be replaced with the median values of the particular column when data cleaning.</p>"
   ]
  },
  {
   "cell_type": "code",
   "execution_count": 8,
   "metadata": {},
   "outputs": [
    {
     "data": {
      "text/html": [
       "<div>\n",
       "<style scoped>\n",
       "    .dataframe tbody tr th:only-of-type {\n",
       "        vertical-align: middle;\n",
       "    }\n",
       "\n",
       "    .dataframe tbody tr th {\n",
       "        vertical-align: top;\n",
       "    }\n",
       "\n",
       "    .dataframe thead th {\n",
       "        text-align: right;\n",
       "    }\n",
       "</style>\n",
       "<table border=\"1\" class=\"dataframe\">\n",
       "  <thead>\n",
       "    <tr style=\"text-align: right;\">\n",
       "      <th></th>\n",
       "      <th>PRICE</th>\n",
       "      <th>BEDROOMS</th>\n",
       "      <th>BATHROOMS</th>\n",
       "      <th>GARAGE</th>\n",
       "      <th>LAND_AREA</th>\n",
       "      <th>FLOOR_AREA</th>\n",
       "      <th>BUILD_YEAR</th>\n",
       "      <th>CBD_DIST</th>\n",
       "      <th>NEAREST_STN_DIST</th>\n",
       "      <th>POSTCODE</th>\n",
       "      <th>LATITUDE</th>\n",
       "      <th>LONGITUDE</th>\n",
       "      <th>NEAREST_SCH_DIST</th>\n",
       "      <th>NEAREST_SCH_RANK</th>\n",
       "    </tr>\n",
       "  </thead>\n",
       "  <tbody>\n",
       "    <tr>\n",
       "      <th>PRICE</th>\n",
       "      <td>1.000000</td>\n",
       "      <td>0.252637</td>\n",
       "      <td>0.377133</td>\n",
       "      <td>0.134343</td>\n",
       "      <td>0.056855</td>\n",
       "      <td>0.548497</td>\n",
       "      <td>-0.157218</td>\n",
       "      <td>-0.354327</td>\n",
       "      <td>-0.095089</td>\n",
       "      <td>-0.171553</td>\n",
       "      <td>0.053041</td>\n",
       "      <td>-0.183734</td>\n",
       "      <td>-0.021941</td>\n",
       "      <td>-0.461991</td>\n",
       "    </tr>\n",
       "    <tr>\n",
       "      <th>BEDROOMS</th>\n",
       "      <td>0.252637</td>\n",
       "      <td>1.000000</td>\n",
       "      <td>0.555702</td>\n",
       "      <td>0.194197</td>\n",
       "      <td>0.051223</td>\n",
       "      <td>0.536926</td>\n",
       "      <td>0.229019</td>\n",
       "      <td>0.124654</td>\n",
       "      <td>0.102203</td>\n",
       "      <td>0.010601</td>\n",
       "      <td>0.021967</td>\n",
       "      <td>-0.015170</td>\n",
       "      <td>0.092391</td>\n",
       "      <td>0.024461</td>\n",
       "    </tr>\n",
       "    <tr>\n",
       "      <th>BATHROOMS</th>\n",
       "      <td>0.377133</td>\n",
       "      <td>0.555702</td>\n",
       "      <td>1.000000</td>\n",
       "      <td>0.186801</td>\n",
       "      <td>0.027059</td>\n",
       "      <td>0.555843</td>\n",
       "      <td>0.339594</td>\n",
       "      <td>0.033053</td>\n",
       "      <td>0.037068</td>\n",
       "      <td>-0.041374</td>\n",
       "      <td>0.051411</td>\n",
       "      <td>-0.093817</td>\n",
       "      <td>0.060734</td>\n",
       "      <td>-0.096024</td>\n",
       "    </tr>\n",
       "    <tr>\n",
       "      <th>GARAGE</th>\n",
       "      <td>0.134343</td>\n",
       "      <td>0.194197</td>\n",
       "      <td>0.186801</td>\n",
       "      <td>1.000000</td>\n",
       "      <td>0.059211</td>\n",
       "      <td>0.201541</td>\n",
       "      <td>0.040371</td>\n",
       "      <td>0.046244</td>\n",
       "      <td>0.110527</td>\n",
       "      <td>0.028005</td>\n",
       "      <td>-0.016416</td>\n",
       "      <td>0.091270</td>\n",
       "      <td>0.099654</td>\n",
       "      <td>0.021863</td>\n",
       "    </tr>\n",
       "    <tr>\n",
       "      <th>LAND_AREA</th>\n",
       "      <td>0.056855</td>\n",
       "      <td>0.051223</td>\n",
       "      <td>0.027059</td>\n",
       "      <td>0.059211</td>\n",
       "      <td>1.000000</td>\n",
       "      <td>0.073836</td>\n",
       "      <td>0.002063</td>\n",
       "      <td>0.133262</td>\n",
       "      <td>0.233023</td>\n",
       "      <td>0.042070</td>\n",
       "      <td>-0.014389</td>\n",
       "      <td>0.151255</td>\n",
       "      <td>0.286964</td>\n",
       "      <td>0.048758</td>\n",
       "    </tr>\n",
       "    <tr>\n",
       "      <th>FLOOR_AREA</th>\n",
       "      <td>0.548497</td>\n",
       "      <td>0.536926</td>\n",
       "      <td>0.555843</td>\n",
       "      <td>0.201541</td>\n",
       "      <td>0.073836</td>\n",
       "      <td>1.000000</td>\n",
       "      <td>0.226872</td>\n",
       "      <td>0.022687</td>\n",
       "      <td>0.106527</td>\n",
       "      <td>-0.050658</td>\n",
       "      <td>0.043555</td>\n",
       "      <td>-0.046625</td>\n",
       "      <td>0.120048</td>\n",
       "      <td>-0.145502</td>\n",
       "    </tr>\n",
       "    <tr>\n",
       "      <th>BUILD_YEAR</th>\n",
       "      <td>-0.157218</td>\n",
       "      <td>0.229019</td>\n",
       "      <td>0.339594</td>\n",
       "      <td>0.040371</td>\n",
       "      <td>0.002063</td>\n",
       "      <td>0.226872</td>\n",
       "      <td>1.000000</td>\n",
       "      <td>0.270110</td>\n",
       "      <td>0.103350</td>\n",
       "      <td>0.044095</td>\n",
       "      <td>0.045463</td>\n",
       "      <td>-0.059047</td>\n",
       "      <td>0.108719</td>\n",
       "      <td>0.158639</td>\n",
       "    </tr>\n",
       "    <tr>\n",
       "      <th>CBD_DIST</th>\n",
       "      <td>-0.354327</td>\n",
       "      <td>0.124654</td>\n",
       "      <td>0.033053</td>\n",
       "      <td>0.046244</td>\n",
       "      <td>0.133262</td>\n",
       "      <td>0.022687</td>\n",
       "      <td>0.270110</td>\n",
       "      <td>1.000000</td>\n",
       "      <td>0.446496</td>\n",
       "      <td>0.255801</td>\n",
       "      <td>-0.196813</td>\n",
       "      <td>-0.060097</td>\n",
       "      <td>0.377118</td>\n",
       "      <td>0.328703</td>\n",
       "    </tr>\n",
       "    <tr>\n",
       "      <th>NEAREST_STN_DIST</th>\n",
       "      <td>-0.095089</td>\n",
       "      <td>0.102203</td>\n",
       "      <td>0.037068</td>\n",
       "      <td>0.110527</td>\n",
       "      <td>0.233023</td>\n",
       "      <td>0.106527</td>\n",
       "      <td>0.103350</td>\n",
       "      <td>0.446496</td>\n",
       "      <td>1.000000</td>\n",
       "      <td>0.204347</td>\n",
       "      <td>0.037174</td>\n",
       "      <td>0.496924</td>\n",
       "      <td>0.634712</td>\n",
       "      <td>0.189571</td>\n",
       "    </tr>\n",
       "    <tr>\n",
       "      <th>POSTCODE</th>\n",
       "      <td>-0.171553</td>\n",
       "      <td>0.010601</td>\n",
       "      <td>-0.041374</td>\n",
       "      <td>0.028005</td>\n",
       "      <td>0.042070</td>\n",
       "      <td>-0.050658</td>\n",
       "      <td>0.044095</td>\n",
       "      <td>0.255801</td>\n",
       "      <td>0.204347</td>\n",
       "      <td>1.000000</td>\n",
       "      <td>-0.642643</td>\n",
       "      <td>0.173918</td>\n",
       "      <td>0.128424</td>\n",
       "      <td>0.192768</td>\n",
       "    </tr>\n",
       "    <tr>\n",
       "      <th>LATITUDE</th>\n",
       "      <td>0.053041</td>\n",
       "      <td>0.021967</td>\n",
       "      <td>0.051411</td>\n",
       "      <td>-0.016416</td>\n",
       "      <td>-0.014389</td>\n",
       "      <td>0.043555</td>\n",
       "      <td>0.045463</td>\n",
       "      <td>-0.196813</td>\n",
       "      <td>0.037174</td>\n",
       "      <td>-0.642643</td>\n",
       "      <td>1.000000</td>\n",
       "      <td>-0.105989</td>\n",
       "      <td>0.005939</td>\n",
       "      <td>-0.049861</td>\n",
       "    </tr>\n",
       "    <tr>\n",
       "      <th>LONGITUDE</th>\n",
       "      <td>-0.183734</td>\n",
       "      <td>-0.015170</td>\n",
       "      <td>-0.093817</td>\n",
       "      <td>0.091270</td>\n",
       "      <td>0.151255</td>\n",
       "      <td>-0.046625</td>\n",
       "      <td>-0.059047</td>\n",
       "      <td>-0.060097</td>\n",
       "      <td>0.496924</td>\n",
       "      <td>0.173918</td>\n",
       "      <td>-0.105989</td>\n",
       "      <td>1.000000</td>\n",
       "      <td>0.304214</td>\n",
       "      <td>0.243746</td>\n",
       "    </tr>\n",
       "    <tr>\n",
       "      <th>NEAREST_SCH_DIST</th>\n",
       "      <td>-0.021941</td>\n",
       "      <td>0.092391</td>\n",
       "      <td>0.060734</td>\n",
       "      <td>0.099654</td>\n",
       "      <td>0.286964</td>\n",
       "      <td>0.120048</td>\n",
       "      <td>0.108719</td>\n",
       "      <td>0.377118</td>\n",
       "      <td>0.634712</td>\n",
       "      <td>0.128424</td>\n",
       "      <td>0.005939</td>\n",
       "      <td>0.304214</td>\n",
       "      <td>1.000000</td>\n",
       "      <td>0.161502</td>\n",
       "    </tr>\n",
       "    <tr>\n",
       "      <th>NEAREST_SCH_RANK</th>\n",
       "      <td>-0.461991</td>\n",
       "      <td>0.024461</td>\n",
       "      <td>-0.096024</td>\n",
       "      <td>0.021863</td>\n",
       "      <td>0.048758</td>\n",
       "      <td>-0.145502</td>\n",
       "      <td>0.158639</td>\n",
       "      <td>0.328703</td>\n",
       "      <td>0.189571</td>\n",
       "      <td>0.192768</td>\n",
       "      <td>-0.049861</td>\n",
       "      <td>0.243746</td>\n",
       "      <td>0.161502</td>\n",
       "      <td>1.000000</td>\n",
       "    </tr>\n",
       "  </tbody>\n",
       "</table>\n",
       "</div>"
      ],
      "text/plain": [
       "                     PRICE  BEDROOMS  BATHROOMS    GARAGE  LAND_AREA  \\\n",
       "PRICE             1.000000  0.252637   0.377133  0.134343   0.056855   \n",
       "BEDROOMS          0.252637  1.000000   0.555702  0.194197   0.051223   \n",
       "BATHROOMS         0.377133  0.555702   1.000000  0.186801   0.027059   \n",
       "GARAGE            0.134343  0.194197   0.186801  1.000000   0.059211   \n",
       "LAND_AREA         0.056855  0.051223   0.027059  0.059211   1.000000   \n",
       "FLOOR_AREA        0.548497  0.536926   0.555843  0.201541   0.073836   \n",
       "BUILD_YEAR       -0.157218  0.229019   0.339594  0.040371   0.002063   \n",
       "CBD_DIST         -0.354327  0.124654   0.033053  0.046244   0.133262   \n",
       "NEAREST_STN_DIST -0.095089  0.102203   0.037068  0.110527   0.233023   \n",
       "POSTCODE         -0.171553  0.010601  -0.041374  0.028005   0.042070   \n",
       "LATITUDE          0.053041  0.021967   0.051411 -0.016416  -0.014389   \n",
       "LONGITUDE        -0.183734 -0.015170  -0.093817  0.091270   0.151255   \n",
       "NEAREST_SCH_DIST -0.021941  0.092391   0.060734  0.099654   0.286964   \n",
       "NEAREST_SCH_RANK -0.461991  0.024461  -0.096024  0.021863   0.048758   \n",
       "\n",
       "                  FLOOR_AREA  BUILD_YEAR  CBD_DIST  NEAREST_STN_DIST  \\\n",
       "PRICE               0.548497   -0.157218 -0.354327         -0.095089   \n",
       "BEDROOMS            0.536926    0.229019  0.124654          0.102203   \n",
       "BATHROOMS           0.555843    0.339594  0.033053          0.037068   \n",
       "GARAGE              0.201541    0.040371  0.046244          0.110527   \n",
       "LAND_AREA           0.073836    0.002063  0.133262          0.233023   \n",
       "FLOOR_AREA          1.000000    0.226872  0.022687          0.106527   \n",
       "BUILD_YEAR          0.226872    1.000000  0.270110          0.103350   \n",
       "CBD_DIST            0.022687    0.270110  1.000000          0.446496   \n",
       "NEAREST_STN_DIST    0.106527    0.103350  0.446496          1.000000   \n",
       "POSTCODE           -0.050658    0.044095  0.255801          0.204347   \n",
       "LATITUDE            0.043555    0.045463 -0.196813          0.037174   \n",
       "LONGITUDE          -0.046625   -0.059047 -0.060097          0.496924   \n",
       "NEAREST_SCH_DIST    0.120048    0.108719  0.377118          0.634712   \n",
       "NEAREST_SCH_RANK   -0.145502    0.158639  0.328703          0.189571   \n",
       "\n",
       "                  POSTCODE  LATITUDE  LONGITUDE  NEAREST_SCH_DIST  \\\n",
       "PRICE            -0.171553  0.053041  -0.183734         -0.021941   \n",
       "BEDROOMS          0.010601  0.021967  -0.015170          0.092391   \n",
       "BATHROOMS        -0.041374  0.051411  -0.093817          0.060734   \n",
       "GARAGE            0.028005 -0.016416   0.091270          0.099654   \n",
       "LAND_AREA         0.042070 -0.014389   0.151255          0.286964   \n",
       "FLOOR_AREA       -0.050658  0.043555  -0.046625          0.120048   \n",
       "BUILD_YEAR        0.044095  0.045463  -0.059047          0.108719   \n",
       "CBD_DIST          0.255801 -0.196813  -0.060097          0.377118   \n",
       "NEAREST_STN_DIST  0.204347  0.037174   0.496924          0.634712   \n",
       "POSTCODE          1.000000 -0.642643   0.173918          0.128424   \n",
       "LATITUDE         -0.642643  1.000000  -0.105989          0.005939   \n",
       "LONGITUDE         0.173918 -0.105989   1.000000          0.304214   \n",
       "NEAREST_SCH_DIST  0.128424  0.005939   0.304214          1.000000   \n",
       "NEAREST_SCH_RANK  0.192768 -0.049861   0.243746          0.161502   \n",
       "\n",
       "                  NEAREST_SCH_RANK  \n",
       "PRICE                    -0.461991  \n",
       "BEDROOMS                  0.024461  \n",
       "BATHROOMS                -0.096024  \n",
       "GARAGE                    0.021863  \n",
       "LAND_AREA                 0.048758  \n",
       "FLOOR_AREA               -0.145502  \n",
       "BUILD_YEAR                0.158639  \n",
       "CBD_DIST                  0.328703  \n",
       "NEAREST_STN_DIST          0.189571  \n",
       "POSTCODE                  0.192768  \n",
       "LATITUDE                 -0.049861  \n",
       "LONGITUDE                 0.243746  \n",
       "NEAREST_SCH_DIST          0.161502  \n",
       "NEAREST_SCH_RANK          1.000000  "
      ]
     },
     "execution_count": 8,
     "metadata": {},
     "output_type": "execute_result"
    }
   ],
   "source": [
    "# See the Correlation Matrix (Linear Correlation)\n",
    "\n",
    "df1.corr()"
   ]
  },
  {
   "cell_type": "code",
   "execution_count": 9,
   "metadata": {},
   "outputs": [
    {
     "data": {
      "text/plain": [
       "<AxesSubplot:>"
      ]
     },
     "execution_count": 9,
     "metadata": {},
     "output_type": "execute_result"
    },
    {
     "data": {
      "image/png": "[encoded data removed]",
      "text/plain": [
       "<Figure size 864x864 with 2 Axes>"
      ]
     },
     "metadata": {
      "needs_background": "light"
     },
     "output_type": "display_data"
    }
   ],
   "source": [
    "# Plot the Correlation Matrix (Linear Correlation)\n",
    "\n",
    "matrix = np.triu(df1.corr()) # in order to produce only the lower part of the matrix\n",
    "sns.heatmap(df1.corr(), annot = True, mask=matrix)"
   ]
  },
  {
   "cell_type": "markdown",
   "metadata": {},
   "source": [
    "<p style='color:#176fd4'> Above Correlation Matrix shows co-relation between numerical features only. There are no categorical variables there. And also it depicts only lower part of the matrix (because this is a Symmetric Matrix). And we can see the correlation values are in between -0.65 and +0.6. It means there are no strong co-related features in this data. Therefore, it is not needed to remove features based on the co-relations. </p>"
   ]
  },
  {
   "cell_type": "code",
   "execution_count": 10,
   "metadata": {
    "scrolled": false
   },
   "outputs": [
    {
     "data": {
      "text/plain": [
       "array([[<AxesSubplot:title={'center':'PRICE'}>,\n",
       "        <AxesSubplot:title={'center':'BEDROOMS'}>,\n",
       "        <AxesSubplot:title={'center':'BATHROOMS'}>,\n",
       "        <AxesSubplot:title={'center':'GARAGE'}>],\n",
       "       [<AxesSubplot:title={'center':'LAND_AREA'}>,\n",
       "        <AxesSubplot:title={'center':'FLOOR_AREA'}>,\n",
       "        <AxesSubplot:title={'center':'BUILD_YEAR'}>,\n",
       "        <AxesSubplot:title={'center':'CBD_DIST'}>],\n",
       "       [<AxesSubplot:title={'center':'NEAREST_STN_DIST'}>,\n",
       "        <AxesSubplot:title={'center':'POSTCODE'}>,\n",
       "        <AxesSubplot:title={'center':'LATITUDE'}>,\n",
       "        <AxesSubplot:title={'center':'LONGITUDE'}>],\n",
       "       [<AxesSubplot:title={'center':'NEAREST_SCH_DIST'}>,\n",
       "        <AxesSubplot:title={'center':'NEAREST_SCH_RANK'}>,\n",
       "        <AxesSubplot:>, <AxesSubplot:>]], dtype=object)"
      ]
     },
     "execution_count": 10,
     "metadata": {},
     "output_type": "execute_result"
    },
    {
     "data": {
      "image/png": "[encoded data removed]",
      "text/plain": [
       "<Figure size 1080x1080 with 16 Axes>"
      ]
     },
     "metadata": {
      "needs_background": "light"
     },
     "output_type": "display_data"
    }
   ],
   "source": [
    "# Histogram per each numerical column\n",
    "\n",
    "df1.hist(figsize=(15, 15))"
   ]
  },
  {
   "cell_type": "code",
   "execution_count": 11,
   "metadata": {
    "scrolled": false
   },
   "outputs": [
    {
     "data": {
      "text/plain": [
       "<AxesSubplot:xlabel='NEAREST_SCH_RANK'>"
      ]
     },
     "execution_count": 11,
     "metadata": {},
     "output_type": "execute_result"
    },
    {
     "data": {
      "image/png": "[encoded data removed]",
      "text/plain": [
       "<Figure size 360x360 with 1 Axes>"
      ]
     },
     "metadata": {
      "needs_background": "light"
     },
     "output_type": "display_data"
    },
    {
     "data": {
      "image/png": "[encoded data removed]",
      "text/plain": [
       "<Figure size 360x360 with 1 Axes>"
      ]
     },
     "metadata": {
      "needs_background": "light"
     },
     "output_type": "display_data"
    },
    {
     "data": {
      "image/png": "[encoded data removed]",
      "text/plain": [
       "<Figure size 360x360 with 1 Axes>"
      ]
     },
     "metadata": {
      "needs_background": "light"
     },
     "output_type": "display_data"
    },
    {
     "data": {
      "image/png": "[encoded data removed]",
      "text/plain": [
       "<Figure size 360x360 with 1 Axes>"
      ]
     },
     "metadata": {
      "needs_background": "light"
     },
     "output_type": "display_data"
    },
    {
     "data": {
      "image/png": "[encoded data removed]",
      "text/plain": [
       "<Figure size 360x360 with 1 Axes>"
      ]
     },
     "metadata": {
      "needs_background": "light"
     },
     "output_type": "display_data"
    },
    {
     "data": {
      "image/png": "[encoded data removed]",
      "text/plain": [
       "<Figure size 360x360 with 1 Axes>"
      ]
     },
     "metadata": {
      "needs_background": "light"
     },
     "output_type": "display_data"
    },
    {
     "data": {
      "image/png": "[encoded data removed]",
      "text/plain": [
       "<Figure size 360x360 with 1 Axes>"
      ]
     },
     "metadata": {
      "needs_background": "light"
     },
     "output_type": "display_data"
    },
    {
     "data": {
      "image/png": "[encoded data removed]",
      "text/plain": [
       "<Figure size 360x360 with 1 Axes>"
      ]
     },
     "metadata": {
      "needs_background": "light"
     },
     "output_type": "display_data"
    },
    {
     "data": {
      "image/png": "[encoded data removed]",
      "text/plain": [
       "<Figure size 360x360 with 1 Axes>"
      ]
     },
     "metadata": {
      "needs_background": "light"
     },
     "output_type": "display_data"
    },
    {
     "data": {
      "image/png": "[encoded data removed]",
      "text/plain": [
       "<Figure size 360x360 with 1 Axes>"
      ]
     },
     "metadata": {
      "needs_background": "light"
     },
     "output_type": "display_data"
    },
    {
     "data": {
      "image/png": "[encoded data removed]",
      "text/plain": [
       "<Figure size 360x360 with 1 Axes>"
      ]
     },
     "metadata": {
      "needs_background": "light"
     },
     "output_type": "display_data"
    },
    {
     "data": {
      "image/png": "[encoded data removed]",
      "text/plain": [
       "<Figure size 360x360 with 1 Axes>"
      ]
     },
     "metadata": {
      "needs_background": "light"
     },
     "output_type": "display_data"
    },
    {
     "data": {
      "image/png": "[encoded data removed]",
      "text/plain": [
       "<Figure size 360x360 with 1 Axes>"
      ]
     },
     "metadata": {
      "needs_background": "light"
     },
     "output_type": "display_data"
    },
    {
     "data": {
      "image/png": "[encoded data removed]",
      "text/plain": [
       "<Figure size 360x360 with 1 Axes>"
      ]
     },
     "metadata": {
      "needs_background": "light"
     },
     "output_type": "display_data"
    }
   ],
   "source": [
    "# Boxplot for each column\n",
    "\n",
    "plt.figure(figsize=(5, 5))\n",
    "sns.boxplot(x=df1['PRICE'])\n",
    "\n",
    "plt.figure(figsize=(5, 5))\n",
    "sns.boxplot(x=df1['LAND_AREA'])\n",
    "\n",
    "plt.figure(figsize=(5, 5))\n",
    "sns.boxplot(x=df1['FLOOR_AREA'])\n",
    "\n",
    "plt.figure(figsize=(5, 5))\n",
    "sns.boxplot(x=df1['BUILD_YEAR'])\n",
    "\n",
    "plt.figure(figsize=(5, 5))\n",
    "sns.boxplot(x=df1['CBD_DIST'])\n",
    "\n",
    "plt.figure(figsize=(5, 5))\n",
    "sns.boxplot(x=df1['NEAREST_STN_DIST'])\n",
    "\n",
    "plt.figure(figsize=(5, 5))\n",
    "sns.boxplot(x=df1['NEAREST_SCH_DIST'])\n",
    "\n",
    "plt.figure(figsize=(5, 5))\n",
    "sns.boxplot(x=df1['BEDROOMS'])\n",
    "\n",
    "plt.figure(figsize=(5, 5))\n",
    "sns.boxplot(x=df1['BATHROOMS'])\n",
    "\n",
    "plt.figure(figsize=(5, 5))\n",
    "sns.boxplot(x=df1['GARAGE'])\n",
    "\n",
    "plt.figure(figsize=(5, 5))\n",
    "sns.boxplot(x=df1['POSTCODE'])\n",
    "\n",
    "plt.figure(figsize=(5, 5))\n",
    "sns.boxplot(x=df1['LATITUDE'])\n",
    "\n",
    "plt.figure(figsize=(5, 5))\n",
    "sns.boxplot(x=df1['LONGITUDE'])\n",
    "\n",
    "plt.figure(figsize=(5, 5))\n",
    "sns.boxplot(x=df1['NEAREST_SCH_RANK'])"
   ]
  },
  {
   "cell_type": "code",
   "execution_count": 12,
   "metadata": {},
   "outputs": [
    {
     "data": {
      "text/html": [
       "<div>\n",
       "<style scoped>\n",
       "    .dataframe tbody tr th:only-of-type {\n",
       "        vertical-align: middle;\n",
       "    }\n",
       "\n",
       "    .dataframe tbody tr th {\n",
       "        vertical-align: top;\n",
       "    }\n",
       "\n",
       "    .dataframe thead th {\n",
       "        text-align: right;\n",
       "    }\n",
       "</style>\n",
       "<table border=\"1\" class=\"dataframe\">\n",
       "  <thead>\n",
       "    <tr style=\"text-align: right;\">\n",
       "      <th></th>\n",
       "      <th>PRICE</th>\n",
       "      <th>BEDROOMS</th>\n",
       "      <th>BATHROOMS</th>\n",
       "      <th>GARAGE</th>\n",
       "      <th>LAND_AREA</th>\n",
       "      <th>FLOOR_AREA</th>\n",
       "      <th>BUILD_YEAR</th>\n",
       "      <th>CBD_DIST</th>\n",
       "      <th>NEAREST_STN_DIST</th>\n",
       "      <th>POSTCODE</th>\n",
       "      <th>LATITUDE</th>\n",
       "      <th>LONGITUDE</th>\n",
       "      <th>NEAREST_SCH_DIST</th>\n",
       "      <th>NEAREST_SCH_RANK</th>\n",
       "    </tr>\n",
       "  </thead>\n",
       "  <tbody>\n",
       "    <tr>\n",
       "      <th>count</th>\n",
       "      <td>3.365600e+04</td>\n",
       "      <td>33656.000000</td>\n",
       "      <td>33656.000000</td>\n",
       "      <td>31178.000000</td>\n",
       "      <td>33656.000000</td>\n",
       "      <td>33656.000000</td>\n",
       "      <td>30501.000000</td>\n",
       "      <td>33656.000000</td>\n",
       "      <td>33656.000000</td>\n",
       "      <td>33656.000000</td>\n",
       "      <td>33656.000000</td>\n",
       "      <td>33656.000000</td>\n",
       "      <td>33656.000000</td>\n",
       "      <td>22704.000000</td>\n",
       "    </tr>\n",
       "    <tr>\n",
       "      <th>mean</th>\n",
       "      <td>6.370720e+05</td>\n",
       "      <td>3.659110</td>\n",
       "      <td>1.823063</td>\n",
       "      <td>2.199917</td>\n",
       "      <td>2740.644016</td>\n",
       "      <td>183.501545</td>\n",
       "      <td>1989.706436</td>\n",
       "      <td>19777.374465</td>\n",
       "      <td>4523.371494</td>\n",
       "      <td>6089.420074</td>\n",
       "      <td>-31.960664</td>\n",
       "      <td>115.879265</td>\n",
       "      <td>1.815268</td>\n",
       "      <td>72.672569</td>\n",
       "    </tr>\n",
       "    <tr>\n",
       "      <th>std</th>\n",
       "      <td>3.558256e+05</td>\n",
       "      <td>0.752038</td>\n",
       "      <td>0.587427</td>\n",
       "      <td>1.365225</td>\n",
       "      <td>16693.513215</td>\n",
       "      <td>72.102982</td>\n",
       "      <td>20.964330</td>\n",
       "      <td>11364.415413</td>\n",
       "      <td>4495.064024</td>\n",
       "      <td>62.167921</td>\n",
       "      <td>0.177780</td>\n",
       "      <td>0.118137</td>\n",
       "      <td>1.746000</td>\n",
       "      <td>40.639795</td>\n",
       "    </tr>\n",
       "    <tr>\n",
       "      <th>min</th>\n",
       "      <td>5.100000e+04</td>\n",
       "      <td>1.000000</td>\n",
       "      <td>1.000000</td>\n",
       "      <td>1.000000</td>\n",
       "      <td>61.000000</td>\n",
       "      <td>1.000000</td>\n",
       "      <td>1868.000000</td>\n",
       "      <td>681.000000</td>\n",
       "      <td>46.000000</td>\n",
       "      <td>6003.000000</td>\n",
       "      <td>-32.472979</td>\n",
       "      <td>115.582730</td>\n",
       "      <td>0.070912</td>\n",
       "      <td>1.000000</td>\n",
       "    </tr>\n",
       "    <tr>\n",
       "      <th>25%</th>\n",
       "      <td>4.100000e+05</td>\n",
       "      <td>3.000000</td>\n",
       "      <td>1.000000</td>\n",
       "      <td>2.000000</td>\n",
       "      <td>503.000000</td>\n",
       "      <td>130.000000</td>\n",
       "      <td>1978.000000</td>\n",
       "      <td>11200.000000</td>\n",
       "      <td>1800.000000</td>\n",
       "      <td>6050.000000</td>\n",
       "      <td>-32.068437</td>\n",
       "      <td>115.789763</td>\n",
       "      <td>0.880568</td>\n",
       "      <td>39.000000</td>\n",
       "    </tr>\n",
       "    <tr>\n",
       "      <th>50%</th>\n",
       "      <td>5.355000e+05</td>\n",
       "      <td>4.000000</td>\n",
       "      <td>2.000000</td>\n",
       "      <td>2.000000</td>\n",
       "      <td>682.000000</td>\n",
       "      <td>172.000000</td>\n",
       "      <td>1995.000000</td>\n",
       "      <td>17500.000000</td>\n",
       "      <td>3200.000000</td>\n",
       "      <td>6069.000000</td>\n",
       "      <td>-31.933231</td>\n",
       "      <td>115.854198</td>\n",
       "      <td>1.345520</td>\n",
       "      <td>68.000000</td>\n",
       "    </tr>\n",
       "    <tr>\n",
       "      <th>75%</th>\n",
       "      <td>7.600000e+05</td>\n",
       "      <td>4.000000</td>\n",
       "      <td>2.000000</td>\n",
       "      <td>2.000000</td>\n",
       "      <td>838.000000</td>\n",
       "      <td>222.250000</td>\n",
       "      <td>2005.000000</td>\n",
       "      <td>26600.000000</td>\n",
       "      <td>5300.000000</td>\n",
       "      <td>6150.000000</td>\n",
       "      <td>-31.843818</td>\n",
       "      <td>115.970722</td>\n",
       "      <td>2.097225</td>\n",
       "      <td>105.000000</td>\n",
       "    </tr>\n",
       "    <tr>\n",
       "      <th>max</th>\n",
       "      <td>2.440000e+06</td>\n",
       "      <td>10.000000</td>\n",
       "      <td>16.000000</td>\n",
       "      <td>99.000000</td>\n",
       "      <td>999999.000000</td>\n",
       "      <td>870.000000</td>\n",
       "      <td>2017.000000</td>\n",
       "      <td>59800.000000</td>\n",
       "      <td>35500.000000</td>\n",
       "      <td>6558.000000</td>\n",
       "      <td>-31.457450</td>\n",
       "      <td>116.343201</td>\n",
       "      <td>23.254372</td>\n",
       "      <td>139.000000</td>\n",
       "    </tr>\n",
       "  </tbody>\n",
       "</table>\n",
       "</div>"
      ],
      "text/plain": [
       "              PRICE      BEDROOMS     BATHROOMS        GARAGE      LAND_AREA  \\\n",
       "count  3.365600e+04  33656.000000  33656.000000  31178.000000   33656.000000   \n",
       "mean   6.370720e+05      3.659110      1.823063      2.199917    2740.644016   \n",
       "std    3.558256e+05      0.752038      0.587427      1.365225   16693.513215   \n",
       "min    5.100000e+04      1.000000      1.000000      1.000000      61.000000   \n",
       "25%    4.100000e+05      3.000000      1.000000      2.000000     503.000000   \n",
       "50%    5.355000e+05      4.000000      2.000000      2.000000     682.000000   \n",
       "75%    7.600000e+05      4.000000      2.000000      2.000000     838.000000   \n",
       "max    2.440000e+06     10.000000     16.000000     99.000000  999999.000000   \n",
       "\n",
       "         FLOOR_AREA    BUILD_YEAR      CBD_DIST  NEAREST_STN_DIST  \\\n",
       "count  33656.000000  30501.000000  33656.000000      33656.000000   \n",
       "mean     183.501545   1989.706436  19777.374465       4523.371494   \n",
       "std       72.102982     20.964330  11364.415413       4495.064024   \n",
       "min        1.000000   1868.000000    681.000000         46.000000   \n",
       "25%      130.000000   1978.000000  11200.000000       1800.000000   \n",
       "50%      172.000000   1995.000000  17500.000000       3200.000000   \n",
       "75%      222.250000   2005.000000  26600.000000       5300.000000   \n",
       "max      870.000000   2017.000000  59800.000000      35500.000000   \n",
       "\n",
       "           POSTCODE      LATITUDE     LONGITUDE  NEAREST_SCH_DIST  \\\n",
       "count  33656.000000  33656.000000  33656.000000      33656.000000   \n",
       "mean    6089.420074    -31.960664    115.879265          1.815268   \n",
       "std       62.167921      0.177780      0.118137          1.746000   \n",
       "min     6003.000000    -32.472979    115.582730          0.070912   \n",
       "25%     6050.000000    -32.068437    115.789763          0.880568   \n",
       "50%     6069.000000    -31.933231    115.854198          1.345520   \n",
       "75%     6150.000000    -31.843818    115.970722          2.097225   \n",
       "max     6558.000000    -31.457450    116.343201         23.254372   \n",
       "\n",
       "       NEAREST_SCH_RANK  \n",
       "count      22704.000000  \n",
       "mean          72.672569  \n",
       "std           40.639795  \n",
       "min            1.000000  \n",
       "25%           39.000000  \n",
       "50%           68.000000  \n",
       "75%          105.000000  \n",
       "max          139.000000  "
      ]
     },
     "execution_count": 12,
     "metadata": {},
     "output_type": "execute_result"
    }
   ],
   "source": [
    "# Get the statistics per each columnGet the statistics per each column\n",
    "\n",
    "df1.describe()"
   ]
  },
  {
   "cell_type": "markdown",
   "metadata": {},
   "source": [
    "<h2 style='color:#205be6'>Data Cleaning</h2>"
   ]
  },
  {
   "cell_type": "code",
   "execution_count": 13,
   "metadata": {
    "scrolled": false
   },
   "outputs": [
    {
     "data": {
      "text/html": [
       "<div>\n",
       "<style scoped>\n",
       "    .dataframe tbody tr th:only-of-type {\n",
       "        vertical-align: middle;\n",
       "    }\n",
       "\n",
       "    .dataframe tbody tr th {\n",
       "        vertical-align: top;\n",
       "    }\n",
       "\n",
       "    .dataframe thead th {\n",
       "        text-align: right;\n",
       "    }\n",
       "</style>\n",
       "<table border=\"1\" class=\"dataframe\">\n",
       "  <thead>\n",
       "    <tr style=\"text-align: right;\">\n",
       "      <th></th>\n",
       "      <th>SUBURB</th>\n",
       "      <th>PRICE</th>\n",
       "      <th>BEDROOMS</th>\n",
       "      <th>BATHROOMS</th>\n",
       "      <th>GARAGE</th>\n",
       "      <th>LAND_AREA</th>\n",
       "      <th>FLOOR_AREA</th>\n",
       "      <th>BUILD_YEAR</th>\n",
       "      <th>CBD_DIST</th>\n",
       "      <th>NEAREST_STN_DIST</th>\n",
       "      <th>NEAREST_SCH_DIST</th>\n",
       "    </tr>\n",
       "  </thead>\n",
       "  <tbody>\n",
       "    <tr>\n",
       "      <th>0</th>\n",
       "      <td>South Lake</td>\n",
       "      <td>565000</td>\n",
       "      <td>4</td>\n",
       "      <td>2</td>\n",
       "      <td>2.0</td>\n",
       "      <td>600</td>\n",
       "      <td>160</td>\n",
       "      <td>2003.0</td>\n",
       "      <td>18300</td>\n",
       "      <td>1800</td>\n",
       "      <td>0.828339</td>\n",
       "    </tr>\n",
       "    <tr>\n",
       "      <th>1</th>\n",
       "      <td>Wandi</td>\n",
       "      <td>365000</td>\n",
       "      <td>3</td>\n",
       "      <td>2</td>\n",
       "      <td>2.0</td>\n",
       "      <td>351</td>\n",
       "      <td>139</td>\n",
       "      <td>2013.0</td>\n",
       "      <td>26900</td>\n",
       "      <td>4900</td>\n",
       "      <td>5.524324</td>\n",
       "    </tr>\n",
       "    <tr>\n",
       "      <th>2</th>\n",
       "      <td>Camillo</td>\n",
       "      <td>287000</td>\n",
       "      <td>3</td>\n",
       "      <td>1</td>\n",
       "      <td>1.0</td>\n",
       "      <td>719</td>\n",
       "      <td>86</td>\n",
       "      <td>1979.0</td>\n",
       "      <td>22600</td>\n",
       "      <td>1900</td>\n",
       "      <td>1.649178</td>\n",
       "    </tr>\n",
       "  </tbody>\n",
       "</table>\n",
       "</div>"
      ],
      "text/plain": [
       "       SUBURB   PRICE  BEDROOMS  BATHROOMS  GARAGE  LAND_AREA  FLOOR_AREA  \\\n",
       "0  South Lake  565000         4          2     2.0        600         160   \n",
       "1       Wandi  365000         3          2     2.0        351         139   \n",
       "2     Camillo  287000         3          1     1.0        719          86   \n",
       "\n",
       "   BUILD_YEAR  CBD_DIST  NEAREST_STN_DIST  NEAREST_SCH_DIST  \n",
       "0      2003.0     18300              1800          0.828339  \n",
       "1      2013.0     26900              4900          5.524324  \n",
       "2      1979.0     22600              1900          1.649178  "
      ]
     },
     "execution_count": 13,
     "metadata": {},
     "output_type": "execute_result"
    }
   ],
   "source": [
    "# Drop features that are not required to build our model and create new data frame 'df2'\n",
    "\n",
    "df2 = df1.drop(['ADDRESS', 'NEAREST_STN', 'DATE_SOLD', 'POSTCODE', 'LATITUDE', 'LONGITUDE', 'NEAREST_SCH', 'NEAREST_SCH_RANK'],\n",
    "               axis='columns')\n",
    "df2.head(3)"
   ]
  },
  {
   "cell_type": "code",
   "execution_count": 14,
   "metadata": {},
   "outputs": [
    {
     "data": {
      "text/html": [
       "<div>\n",
       "<style scoped>\n",
       "    .dataframe tbody tr th:only-of-type {\n",
       "        vertical-align: middle;\n",
       "    }\n",
       "\n",
       "    .dataframe tbody tr th {\n",
       "        vertical-align: top;\n",
       "    }\n",
       "\n",
       "    .dataframe thead th {\n",
       "        text-align: right;\n",
       "    }\n",
       "</style>\n",
       "<table border=\"1\" class=\"dataframe\">\n",
       "  <thead>\n",
       "    <tr style=\"text-align: right;\">\n",
       "      <th></th>\n",
       "      <th>SUBURB</th>\n",
       "      <th>PRICE</th>\n",
       "      <th>BEDROOMS</th>\n",
       "      <th>BATHROOMS</th>\n",
       "      <th>GARAGE</th>\n",
       "      <th>LAND_AREA</th>\n",
       "      <th>FLOOR_AREA</th>\n",
       "      <th>BUILD_YEAR</th>\n",
       "      <th>CBD_DIST</th>\n",
       "      <th>NEAREST_STN_DIST</th>\n",
       "      <th>NEAREST_SCH_DIST</th>\n",
       "    </tr>\n",
       "  </thead>\n",
       "  <tbody>\n",
       "    <tr>\n",
       "      <th>0</th>\n",
       "      <td>South Lake</td>\n",
       "      <td>565000</td>\n",
       "      <td>4</td>\n",
       "      <td>2</td>\n",
       "      <td>2.0</td>\n",
       "      <td>600</td>\n",
       "      <td>160</td>\n",
       "      <td>2003.0</td>\n",
       "      <td>18300</td>\n",
       "      <td>1800</td>\n",
       "      <td>0.828339</td>\n",
       "    </tr>\n",
       "    <tr>\n",
       "      <th>1</th>\n",
       "      <td>Wandi</td>\n",
       "      <td>365000</td>\n",
       "      <td>3</td>\n",
       "      <td>2</td>\n",
       "      <td>2.0</td>\n",
       "      <td>351</td>\n",
       "      <td>139</td>\n",
       "      <td>2013.0</td>\n",
       "      <td>26900</td>\n",
       "      <td>4900</td>\n",
       "      <td>5.524324</td>\n",
       "    </tr>\n",
       "    <tr>\n",
       "      <th>2</th>\n",
       "      <td>Camillo</td>\n",
       "      <td>287000</td>\n",
       "      <td>3</td>\n",
       "      <td>1</td>\n",
       "      <td>1.0</td>\n",
       "      <td>719</td>\n",
       "      <td>86</td>\n",
       "      <td>1979.0</td>\n",
       "      <td>22600</td>\n",
       "      <td>1900</td>\n",
       "      <td>1.649178</td>\n",
       "    </tr>\n",
       "  </tbody>\n",
       "</table>\n",
       "</div>"
      ],
      "text/plain": [
       "       SUBURB   PRICE  BEDROOMS  BATHROOMS  GARAGE  LAND_AREA  FLOOR_AREA  \\\n",
       "0  South Lake  565000         4          2     2.0        600         160   \n",
       "1       Wandi  365000         3          2     2.0        351         139   \n",
       "2     Camillo  287000         3          1     1.0        719          86   \n",
       "\n",
       "   BUILD_YEAR  CBD_DIST  NEAREST_STN_DIST  NEAREST_SCH_DIST  \n",
       "0      2003.0     18300              1800          0.828339  \n",
       "1      2013.0     26900              4900          5.524324  \n",
       "2      1979.0     22600              1900          1.649178  "
      ]
     },
     "execution_count": 14,
     "metadata": {},
     "output_type": "execute_result"
    }
   ],
   "source": [
    "# Fill missing values of 'GARAGE' and 'BUILD_YEAR' columns\n",
    "\n",
    "df2['BUILD_YEAR'] = df2['BUILD_YEAR'].fillna(df2['BUILD_YEAR'].median())\n",
    "df2['GARAGE'] = df2['GARAGE'].fillna(df2['GARAGE'].median())\n",
    "\n",
    "df2.head(3)"
   ]
  },
  {
   "cell_type": "code",
   "execution_count": 15,
   "metadata": {},
   "outputs": [
    {
     "data": {
      "text/plain": [
       "SUBURB              0\n",
       "PRICE               0\n",
       "BEDROOMS            0\n",
       "BATHROOMS           0\n",
       "GARAGE              0\n",
       "LAND_AREA           0\n",
       "FLOOR_AREA          0\n",
       "BUILD_YEAR          0\n",
       "CBD_DIST            0\n",
       "NEAREST_STN_DIST    0\n",
       "NEAREST_SCH_DIST    0\n",
       "dtype: int64"
      ]
     },
     "execution_count": 15,
     "metadata": {},
     "output_type": "execute_result"
    }
   ],
   "source": [
    "# See again how many null values in each column. But now we deal with 'df2'\n",
    "\n",
    "df2.isnull().sum()"
   ]
  },
  {
   "cell_type": "markdown",
   "metadata": {},
   "source": [
    "<h2 style='color:#205be6'>Detect and Remove Outliers Using IQR (Inter Quartile Range)</h2>"
   ]
  },
  {
   "cell_type": "code",
   "execution_count": 16,
   "metadata": {},
   "outputs": [],
   "source": [
    "# Remove outliers of all columns and assign to new data freame called 'df3'\n",
    "\n",
    "cols = ['PRICE', 'LAND_AREA', 'FLOOR_AREA', 'BEDROOMS', 'BATHROOMS', 'BUILD_YEAR', 'CBD_DIST', \n",
    "        'NEAREST_STN_DIST', 'NEAREST_SCH_DIST', 'GARAGE']\n",
    "\n",
    "Q1 = df2[cols].quantile(0.25)\n",
    "Q3 = df2[cols].quantile(0.75)\n",
    "IQR = Q3 - Q1\n",
    "\n",
    "df3 = df2[~((df2[cols] < (Q1 - 1.5 * IQR)) | (df2[cols] > (Q3 + 1.5 * IQR))).any(axis=1)]\n"
   ]
  },
  {
   "cell_type": "code",
   "execution_count": 17,
   "metadata": {},
   "outputs": [],
   "source": [
    "# See the houses there are garages more than 3, because it is uncommon and need to be removed from further processing\n",
    "\n",
    "df4 = df3.copy()\n",
    "df4 = df3[df3.GARAGE < 3]"
   ]
  },
  {
   "cell_type": "code",
   "execution_count": 18,
   "metadata": {},
   "outputs": [],
   "source": [
    "# See the houses there are more bathrooms than bedrooms count + 2, because it is uncommon and need to be removed from further processing\n",
    "\n",
    "df4 = df3[df3.BATHROOMS < df3.BEDROOMS + 2]"
   ]
  },
  {
   "cell_type": "code",
   "execution_count": 19,
   "metadata": {},
   "outputs": [
    {
     "data": {
      "text/plain": [
       "(16734, 11)"
      ]
     },
     "execution_count": 19,
     "metadata": {},
     "output_type": "execute_result"
    }
   ],
   "source": [
    "df4.shape"
   ]
  },
  {
   "cell_type": "markdown",
   "metadata": {},
   "source": [
    "<h2 style='color:#205be6'>Data Standardization and Normalization</h2>"
   ]
  },
  {
   "cell_type": "code",
   "execution_count": 20,
   "metadata": {},
   "outputs": [
    {
     "data": {
      "text/html": [
       "<div>\n",
       "<style scoped>\n",
       "    .dataframe tbody tr th:only-of-type {\n",
       "        vertical-align: middle;\n",
       "    }\n",
       "\n",
       "    .dataframe tbody tr th {\n",
       "        vertical-align: top;\n",
       "    }\n",
       "\n",
       "    .dataframe thead th {\n",
       "        text-align: right;\n",
       "    }\n",
       "</style>\n",
       "<table border=\"1\" class=\"dataframe\">\n",
       "  <thead>\n",
       "    <tr style=\"text-align: right;\">\n",
       "      <th></th>\n",
       "      <th>SUBURB</th>\n",
       "      <th>PRICE</th>\n",
       "      <th>BEDROOMS</th>\n",
       "      <th>BATHROOMS</th>\n",
       "      <th>GARAGE</th>\n",
       "      <th>LAND_AREA</th>\n",
       "      <th>FLOOR_AREA</th>\n",
       "      <th>BUILD_YEAR</th>\n",
       "      <th>CBD_DIST</th>\n",
       "      <th>NEAREST_STN_DIST</th>\n",
       "      <th>NEAREST_SCH_DIST</th>\n",
       "    </tr>\n",
       "  </thead>\n",
       "  <tbody>\n",
       "    <tr>\n",
       "      <th>0</th>\n",
       "      <td>South Lake</td>\n",
       "      <td>565000</td>\n",
       "      <td>4</td>\n",
       "      <td>2</td>\n",
       "      <td>2.0</td>\n",
       "      <td>600</td>\n",
       "      <td>160</td>\n",
       "      <td>2003.0</td>\n",
       "      <td>18300</td>\n",
       "      <td>1800</td>\n",
       "      <td>828.338552</td>\n",
       "    </tr>\n",
       "    <tr>\n",
       "      <th>3</th>\n",
       "      <td>Bellevue</td>\n",
       "      <td>255000</td>\n",
       "      <td>2</td>\n",
       "      <td>1</td>\n",
       "      <td>2.0</td>\n",
       "      <td>651</td>\n",
       "      <td>59</td>\n",
       "      <td>1953.0</td>\n",
       "      <td>17900</td>\n",
       "      <td>3600</td>\n",
       "      <td>1571.400937</td>\n",
       "    </tr>\n",
       "    <tr>\n",
       "      <th>4</th>\n",
       "      <td>Lockridge</td>\n",
       "      <td>325000</td>\n",
       "      <td>4</td>\n",
       "      <td>1</td>\n",
       "      <td>2.0</td>\n",
       "      <td>466</td>\n",
       "      <td>131</td>\n",
       "      <td>1998.0</td>\n",
       "      <td>11200</td>\n",
       "      <td>2000</td>\n",
       "      <td>1514.921629</td>\n",
       "    </tr>\n",
       "    <tr>\n",
       "      <th>6</th>\n",
       "      <td>Hilbert</td>\n",
       "      <td>400000</td>\n",
       "      <td>3</td>\n",
       "      <td>2</td>\n",
       "      <td>2.0</td>\n",
       "      <td>386</td>\n",
       "      <td>132</td>\n",
       "      <td>2014.0</td>\n",
       "      <td>28200</td>\n",
       "      <td>3700</td>\n",
       "      <td>2485.730857</td>\n",
       "    </tr>\n",
       "    <tr>\n",
       "      <th>7</th>\n",
       "      <td>Waikiki</td>\n",
       "      <td>370000</td>\n",
       "      <td>4</td>\n",
       "      <td>2</td>\n",
       "      <td>2.0</td>\n",
       "      <td>468</td>\n",
       "      <td>158</td>\n",
       "      <td>2013.0</td>\n",
       "      <td>41700</td>\n",
       "      <td>1100</td>\n",
       "      <td>491.573138</td>\n",
       "    </tr>\n",
       "  </tbody>\n",
       "</table>\n",
       "</div>"
      ],
      "text/plain": [
       "       SUBURB   PRICE  BEDROOMS  BATHROOMS  GARAGE  LAND_AREA  FLOOR_AREA  \\\n",
       "0  South Lake  565000         4          2     2.0        600         160   \n",
       "3    Bellevue  255000         2          1     2.0        651          59   \n",
       "4   Lockridge  325000         4          1     2.0        466         131   \n",
       "6     Hilbert  400000         3          2     2.0        386         132   \n",
       "7     Waikiki  370000         4          2     2.0        468         158   \n",
       "\n",
       "   BUILD_YEAR  CBD_DIST  NEAREST_STN_DIST  NEAREST_SCH_DIST  \n",
       "0      2003.0     18300              1800        828.338552  \n",
       "3      1953.0     17900              3600       1571.400937  \n",
       "4      1998.0     11200              2000       1514.921629  \n",
       "6      2014.0     28200              3700       2485.730857  \n",
       "7      2013.0     41700              1100        491.573138  "
      ]
     },
     "execution_count": 20,
     "metadata": {},
     "output_type": "execute_result"
    }
   ],
   "source": [
    "# 'NEAREST_SCH_DIST' column is in 'Kilo Meters' and other distances are in 'Meters'. And the Standard unit is 'Meters'. \n",
    "# Therefore, 'NEAREST_SCH_DIST' column need to be converted in to 'Meters' \n",
    "\n",
    "df5 = df4.copy()\n",
    "\n",
    "df5['NEAREST_SCH_DIST'] = df4['NEAREST_SCH_DIST'] * 1000\n",
    "\n",
    "df5.head()"
   ]
  },
  {
   "cell_type": "code",
   "execution_count": 21,
   "metadata": {},
   "outputs": [
    {
     "data": {
      "text/plain": [
       "SUBURB              object\n",
       "PRICE                int64\n",
       "BEDROOMS             int64\n",
       "BATHROOMS            int64\n",
       "GARAGE               int64\n",
       "LAND_AREA            int64\n",
       "FLOOR_AREA           int64\n",
       "BUILD_YEAR           int64\n",
       "CBD_DIST             int64\n",
       "NEAREST_STN_DIST     int64\n",
       "NEAREST_SCH_DIST     int64\n",
       "dtype: object"
      ]
     },
     "execution_count": 21,
     "metadata": {},
     "output_type": "execute_result"
    }
   ],
   "source": [
    "#Convert GARAGE and BUILD_YEAR into integers.\n",
    "\n",
    "df5['GARAGE'] = df5['GARAGE'].astype('int64')\n",
    "df5['BUILD_YEAR'] = df5['BUILD_YEAR'].astype('int64')\n",
    "\n",
    "# In this dataset all the other distances are in Integer datatype. \n",
    "# Therefore, it is better to convert 'NEAREST_SCH_DIST' column in to 'Meters' as per the consistency.\n",
    "\n",
    "df5['NEAREST_SCH_DIST'] = df5['NEAREST_SCH_DIST'].astype('int64')\n",
    "\n",
    "df5.dtypes"
   ]
  },
  {
   "cell_type": "code",
   "execution_count": 22,
   "metadata": {},
   "outputs": [
    {
     "data": {
      "text/html": [
       "<div>\n",
       "<style scoped>\n",
       "    .dataframe tbody tr th:only-of-type {\n",
       "        vertical-align: middle;\n",
       "    }\n",
       "\n",
       "    .dataframe tbody tr th {\n",
       "        vertical-align: top;\n",
       "    }\n",
       "\n",
       "    .dataframe thead th {\n",
       "        text-align: right;\n",
       "    }\n",
       "</style>\n",
       "<table border=\"1\" class=\"dataframe\">\n",
       "  <thead>\n",
       "    <tr style=\"text-align: right;\">\n",
       "      <th></th>\n",
       "      <th>SUBURB</th>\n",
       "      <th>PRICE</th>\n",
       "      <th>BEDROOMS</th>\n",
       "      <th>BATHROOMS</th>\n",
       "      <th>GARAGE</th>\n",
       "      <th>LAND_AREA</th>\n",
       "      <th>FLOOR_AREA</th>\n",
       "      <th>BUILD_YEAR</th>\n",
       "      <th>CBD_DIST</th>\n",
       "      <th>NEAREST_STN_DIST</th>\n",
       "      <th>NEAREST_SCH_DIST</th>\n",
       "    </tr>\n",
       "  </thead>\n",
       "  <tbody>\n",
       "    <tr>\n",
       "      <th>0</th>\n",
       "      <td>South Lake</td>\n",
       "      <td>0.439689</td>\n",
       "      <td>0.8</td>\n",
       "      <td>0.666667</td>\n",
       "      <td>1.0</td>\n",
       "      <td>0.448430</td>\n",
       "      <td>0.444444</td>\n",
       "      <td>0.993059</td>\n",
       "      <td>0.372709</td>\n",
       "      <td>0.171429</td>\n",
       "      <td>0.211224</td>\n",
       "    </tr>\n",
       "    <tr>\n",
       "      <th>3</th>\n",
       "      <td>Bellevue</td>\n",
       "      <td>0.198444</td>\n",
       "      <td>0.4</td>\n",
       "      <td>0.333333</td>\n",
       "      <td>1.0</td>\n",
       "      <td>0.486547</td>\n",
       "      <td>0.163889</td>\n",
       "      <td>0.968270</td>\n",
       "      <td>0.364562</td>\n",
       "      <td>0.342857</td>\n",
       "      <td>0.400765</td>\n",
       "    </tr>\n",
       "    <tr>\n",
       "      <th>4</th>\n",
       "      <td>Lockridge</td>\n",
       "      <td>0.252918</td>\n",
       "      <td>0.8</td>\n",
       "      <td>0.333333</td>\n",
       "      <td>1.0</td>\n",
       "      <td>0.348281</td>\n",
       "      <td>0.363889</td>\n",
       "      <td>0.990580</td>\n",
       "      <td>0.228106</td>\n",
       "      <td>0.190476</td>\n",
       "      <td>0.386224</td>\n",
       "    </tr>\n",
       "    <tr>\n",
       "      <th>6</th>\n",
       "      <td>Hilbert</td>\n",
       "      <td>0.311284</td>\n",
       "      <td>0.6</td>\n",
       "      <td>0.666667</td>\n",
       "      <td>1.0</td>\n",
       "      <td>0.288490</td>\n",
       "      <td>0.366667</td>\n",
       "      <td>0.998513</td>\n",
       "      <td>0.574338</td>\n",
       "      <td>0.352381</td>\n",
       "      <td>0.633929</td>\n",
       "    </tr>\n",
       "    <tr>\n",
       "      <th>7</th>\n",
       "      <td>Waikiki</td>\n",
       "      <td>0.287938</td>\n",
       "      <td>0.8</td>\n",
       "      <td>0.666667</td>\n",
       "      <td>1.0</td>\n",
       "      <td>0.349776</td>\n",
       "      <td>0.438889</td>\n",
       "      <td>0.998017</td>\n",
       "      <td>0.849287</td>\n",
       "      <td>0.104762</td>\n",
       "      <td>0.125255</td>\n",
       "    </tr>\n",
       "    <tr>\n",
       "      <th>...</th>\n",
       "      <td>...</td>\n",
       "      <td>...</td>\n",
       "      <td>...</td>\n",
       "      <td>...</td>\n",
       "      <td>...</td>\n",
       "      <td>...</td>\n",
       "      <td>...</td>\n",
       "      <td>...</td>\n",
       "      <td>...</td>\n",
       "      <td>...</td>\n",
       "      <td>...</td>\n",
       "    </tr>\n",
       "    <tr>\n",
       "      <th>33651</th>\n",
       "      <td>South Fremantle</td>\n",
       "      <td>0.809339</td>\n",
       "      <td>0.8</td>\n",
       "      <td>1.000000</td>\n",
       "      <td>1.0</td>\n",
       "      <td>0.218236</td>\n",
       "      <td>0.680556</td>\n",
       "      <td>0.998017</td>\n",
       "      <td>0.327902</td>\n",
       "      <td>0.142857</td>\n",
       "      <td>0.364796</td>\n",
       "    </tr>\n",
       "    <tr>\n",
       "      <th>33652</th>\n",
       "      <td>Westminster</td>\n",
       "      <td>0.319066</td>\n",
       "      <td>0.6</td>\n",
       "      <td>0.666667</td>\n",
       "      <td>1.0</td>\n",
       "      <td>0.170404</td>\n",
       "      <td>0.316667</td>\n",
       "      <td>0.989093</td>\n",
       "      <td>0.195519</td>\n",
       "      <td>0.438095</td>\n",
       "      <td>0.428316</td>\n",
       "    </tr>\n",
       "    <tr>\n",
       "      <th>33653</th>\n",
       "      <td>Westminster</td>\n",
       "      <td>0.332296</td>\n",
       "      <td>0.6</td>\n",
       "      <td>0.666667</td>\n",
       "      <td>1.0</td>\n",
       "      <td>0.195067</td>\n",
       "      <td>0.311111</td>\n",
       "      <td>0.989093</td>\n",
       "      <td>0.195519</td>\n",
       "      <td>0.438095</td>\n",
       "      <td>0.425765</td>\n",
       "    </tr>\n",
       "    <tr>\n",
       "      <th>33654</th>\n",
       "      <td>Girrawheen</td>\n",
       "      <td>0.229572</td>\n",
       "      <td>0.6</td>\n",
       "      <td>0.333333</td>\n",
       "      <td>1.0</td>\n",
       "      <td>0.341555</td>\n",
       "      <td>0.236111</td>\n",
       "      <td>0.978681</td>\n",
       "      <td>0.256619</td>\n",
       "      <td>0.419048</td>\n",
       "      <td>0.091327</td>\n",
       "    </tr>\n",
       "    <tr>\n",
       "      <th>33655</th>\n",
       "      <td>Midland</td>\n",
       "      <td>0.229572</td>\n",
       "      <td>0.6</td>\n",
       "      <td>0.333333</td>\n",
       "      <td>1.0</td>\n",
       "      <td>0.221226</td>\n",
       "      <td>0.263889</td>\n",
       "      <td>0.989093</td>\n",
       "      <td>0.340122</td>\n",
       "      <td>0.161905</td>\n",
       "      <td>0.269133</td>\n",
       "    </tr>\n",
       "  </tbody>\n",
       "</table>\n",
       "<p>16734 rows × 11 columns</p>\n",
       "</div>"
      ],
      "text/plain": [
       "                SUBURB     PRICE  BEDROOMS  BATHROOMS  GARAGE  LAND_AREA  \\\n",
       "0           South Lake  0.439689       0.8   0.666667     1.0   0.448430   \n",
       "3             Bellevue  0.198444       0.4   0.333333     1.0   0.486547   \n",
       "4            Lockridge  0.252918       0.8   0.333333     1.0   0.348281   \n",
       "6              Hilbert  0.311284       0.6   0.666667     1.0   0.288490   \n",
       "7              Waikiki  0.287938       0.8   0.666667     1.0   0.349776   \n",
       "...                ...       ...       ...        ...     ...        ...   \n",
       "33651  South Fremantle  0.809339       0.8   1.000000     1.0   0.218236   \n",
       "33652      Westminster  0.319066       0.6   0.666667     1.0   0.170404   \n",
       "33653      Westminster  0.332296       0.6   0.666667     1.0   0.195067   \n",
       "33654       Girrawheen  0.229572       0.6   0.333333     1.0   0.341555   \n",
       "33655          Midland  0.229572       0.6   0.333333     1.0   0.221226   \n",
       "\n",
       "       FLOOR_AREA  BUILD_YEAR  CBD_DIST  NEAREST_STN_DIST  NEAREST_SCH_DIST  \n",
       "0        0.444444    0.993059  0.372709          0.171429          0.211224  \n",
       "3        0.163889    0.968270  0.364562          0.342857          0.400765  \n",
       "4        0.363889    0.990580  0.228106          0.190476          0.386224  \n",
       "6        0.366667    0.998513  0.574338          0.352381          0.633929  \n",
       "7        0.438889    0.998017  0.849287          0.104762          0.125255  \n",
       "...           ...         ...       ...               ...               ...  \n",
       "33651    0.680556    0.998017  0.327902          0.142857          0.364796  \n",
       "33652    0.316667    0.989093  0.195519          0.438095          0.428316  \n",
       "33653    0.311111    0.989093  0.195519          0.438095          0.425765  \n",
       "33654    0.236111    0.978681  0.256619          0.419048          0.091327  \n",
       "33655    0.263889    0.989093  0.340122          0.161905          0.269133  \n",
       "\n",
       "[16734 rows x 11 columns]"
      ]
     },
     "execution_count": 22,
     "metadata": {},
     "output_type": "execute_result"
    }
   ],
   "source": [
    "# Get all numerical values to a range between 0 and 1\n",
    "# divide all values from its column's maximum number\n",
    "\n",
    "df6 = df5.copy()\n",
    "\n",
    "df6['PRICE'] = df5['PRICE'] / df5['PRICE'].max()\n",
    "df6['BEDROOMS'] = df5['BEDROOMS'] / df5['BEDROOMS'].max()\n",
    "df6['BATHROOMS'] = df5['BATHROOMS'] / df5['BATHROOMS'].max()\n",
    "df6['GARAGE'] = df5['GARAGE'] / df5['GARAGE'].max()\n",
    "df6['LAND_AREA'] = df5['LAND_AREA'] / df5['LAND_AREA'].max()\n",
    "df6['FLOOR_AREA'] = df5['FLOOR_AREA'] / df5['FLOOR_AREA'].max()\n",
    "df6['BUILD_YEAR'] = df5['BUILD_YEAR'] / df5['BUILD_YEAR'].max()\n",
    "df6['CBD_DIST'] = df5['CBD_DIST'] / df5['CBD_DIST'].max()\n",
    "df6['NEAREST_STN_DIST'] = df5['NEAREST_STN_DIST'] / df5['NEAREST_STN_DIST'].max()\n",
    "df6['NEAREST_SCH_DIST'] = df5['NEAREST_SCH_DIST'] / df5['NEAREST_SCH_DIST'].max()\n",
    "\n",
    "df6"
   ]
  },
  {
   "cell_type": "markdown",
   "metadata": {},
   "source": [
    "<h2 style='color:#205be6'>One Hot Encoding For SUBURB column</h2>"
   ]
  },
  {
   "cell_type": "code",
   "execution_count": 23,
   "metadata": {},
   "outputs": [
    {
     "data": {
      "text/html": [
       "<div>\n",
       "<style scoped>\n",
       "    .dataframe tbody tr th:only-of-type {\n",
       "        vertical-align: middle;\n",
       "    }\n",
       "\n",
       "    .dataframe tbody tr th {\n",
       "        vertical-align: top;\n",
       "    }\n",
       "\n",
       "    .dataframe thead th {\n",
       "        text-align: right;\n",
       "    }\n",
       "</style>\n",
       "<table border=\"1\" class=\"dataframe\">\n",
       "  <thead>\n",
       "    <tr style=\"text-align: right;\">\n",
       "      <th></th>\n",
       "      <th>Alexander Heights</th>\n",
       "      <th>Alfred Cove</th>\n",
       "      <th>Alkimos</th>\n",
       "      <th>Applecross</th>\n",
       "      <th>Ardross</th>\n",
       "      <th>Armadale</th>\n",
       "      <th>Ascot</th>\n",
       "      <th>Ashby</th>\n",
       "      <th>Ashfield</th>\n",
       "      <th>Attadale</th>\n",
       "      <th>...</th>\n",
       "      <th>Willagee</th>\n",
       "      <th>Willetton</th>\n",
       "      <th>Wilson</th>\n",
       "      <th>Winthrop</th>\n",
       "      <th>Woodbridge</th>\n",
       "      <th>Woodlands</th>\n",
       "      <th>Woodvale</th>\n",
       "      <th>Yanchep</th>\n",
       "      <th>Yangebup</th>\n",
       "      <th>Yokine</th>\n",
       "    </tr>\n",
       "  </thead>\n",
       "  <tbody>\n",
       "    <tr>\n",
       "      <th>0</th>\n",
       "      <td>0</td>\n",
       "      <td>0</td>\n",
       "      <td>0</td>\n",
       "      <td>0</td>\n",
       "      <td>0</td>\n",
       "      <td>0</td>\n",
       "      <td>0</td>\n",
       "      <td>0</td>\n",
       "      <td>0</td>\n",
       "      <td>0</td>\n",
       "      <td>...</td>\n",
       "      <td>0</td>\n",
       "      <td>0</td>\n",
       "      <td>0</td>\n",
       "      <td>0</td>\n",
       "      <td>0</td>\n",
       "      <td>0</td>\n",
       "      <td>0</td>\n",
       "      <td>0</td>\n",
       "      <td>0</td>\n",
       "      <td>0</td>\n",
       "    </tr>\n",
       "    <tr>\n",
       "      <th>3</th>\n",
       "      <td>0</td>\n",
       "      <td>0</td>\n",
       "      <td>0</td>\n",
       "      <td>0</td>\n",
       "      <td>0</td>\n",
       "      <td>0</td>\n",
       "      <td>0</td>\n",
       "      <td>0</td>\n",
       "      <td>0</td>\n",
       "      <td>0</td>\n",
       "      <td>...</td>\n",
       "      <td>0</td>\n",
       "      <td>0</td>\n",
       "      <td>0</td>\n",
       "      <td>0</td>\n",
       "      <td>0</td>\n",
       "      <td>0</td>\n",
       "      <td>0</td>\n",
       "      <td>0</td>\n",
       "      <td>0</td>\n",
       "      <td>0</td>\n",
       "    </tr>\n",
       "    <tr>\n",
       "      <th>4</th>\n",
       "      <td>0</td>\n",
       "      <td>0</td>\n",
       "      <td>0</td>\n",
       "      <td>0</td>\n",
       "      <td>0</td>\n",
       "      <td>0</td>\n",
       "      <td>0</td>\n",
       "      <td>0</td>\n",
       "      <td>0</td>\n",
       "      <td>0</td>\n",
       "      <td>...</td>\n",
       "      <td>0</td>\n",
       "      <td>0</td>\n",
       "      <td>0</td>\n",
       "      <td>0</td>\n",
       "      <td>0</td>\n",
       "      <td>0</td>\n",
       "      <td>0</td>\n",
       "      <td>0</td>\n",
       "      <td>0</td>\n",
       "      <td>0</td>\n",
       "    </tr>\n",
       "  </tbody>\n",
       "</table>\n",
       "<p>3 rows × 265 columns</p>\n",
       "</div>"
      ],
      "text/plain": [
       "   Alexander Heights  Alfred Cove  Alkimos  Applecross  Ardross  Armadale  \\\n",
       "0                  0            0        0           0        0         0   \n",
       "3                  0            0        0           0        0         0   \n",
       "4                  0            0        0           0        0         0   \n",
       "\n",
       "   Ascot  Ashby  Ashfield  Attadale  ...  Willagee  Willetton  Wilson  \\\n",
       "0      0      0         0         0  ...         0          0       0   \n",
       "3      0      0         0         0  ...         0          0       0   \n",
       "4      0      0         0         0  ...         0          0       0   \n",
       "\n",
       "   Winthrop  Woodbridge  Woodlands  Woodvale  Yanchep  Yangebup  Yokine  \n",
       "0         0           0          0         0        0         0       0  \n",
       "3         0           0          0         0        0         0       0  \n",
       "4         0           0          0         0        0         0       0  \n",
       "\n",
       "[3 rows x 265 columns]"
      ]
     },
     "execution_count": 23,
     "metadata": {},
     "output_type": "execute_result"
    }
   ],
   "source": [
    "# Create dummy columns used in One Hot Encoding\n",
    "\n",
    "dummies = pd.get_dummies(df6.SUBURB)\n",
    "dummies.head(3)"
   ]
  },
  {
   "cell_type": "code",
   "execution_count": 24,
   "metadata": {},
   "outputs": [
    {
     "data": {
      "text/html": [
       "<div>\n",
       "<style scoped>\n",
       "    .dataframe tbody tr th:only-of-type {\n",
       "        vertical-align: middle;\n",
       "    }\n",
       "\n",
       "    .dataframe tbody tr th {\n",
       "        vertical-align: top;\n",
       "    }\n",
       "\n",
       "    .dataframe thead th {\n",
       "        text-align: right;\n",
       "    }\n",
       "</style>\n",
       "<table border=\"1\" class=\"dataframe\">\n",
       "  <thead>\n",
       "    <tr style=\"text-align: right;\">\n",
       "      <th></th>\n",
       "      <th>SUBURB</th>\n",
       "      <th>PRICE</th>\n",
       "      <th>BEDROOMS</th>\n",
       "      <th>BATHROOMS</th>\n",
       "      <th>GARAGE</th>\n",
       "      <th>LAND_AREA</th>\n",
       "      <th>FLOOR_AREA</th>\n",
       "      <th>BUILD_YEAR</th>\n",
       "      <th>CBD_DIST</th>\n",
       "      <th>NEAREST_STN_DIST</th>\n",
       "      <th>...</th>\n",
       "      <th>Willagee</th>\n",
       "      <th>Willetton</th>\n",
       "      <th>Wilson</th>\n",
       "      <th>Winthrop</th>\n",
       "      <th>Woodbridge</th>\n",
       "      <th>Woodlands</th>\n",
       "      <th>Woodvale</th>\n",
       "      <th>Yanchep</th>\n",
       "      <th>Yangebup</th>\n",
       "      <th>Yokine</th>\n",
       "    </tr>\n",
       "  </thead>\n",
       "  <tbody>\n",
       "    <tr>\n",
       "      <th>0</th>\n",
       "      <td>South Lake</td>\n",
       "      <td>0.439689</td>\n",
       "      <td>0.8</td>\n",
       "      <td>0.666667</td>\n",
       "      <td>1.0</td>\n",
       "      <td>0.448430</td>\n",
       "      <td>0.444444</td>\n",
       "      <td>0.993059</td>\n",
       "      <td>0.372709</td>\n",
       "      <td>0.171429</td>\n",
       "      <td>...</td>\n",
       "      <td>0</td>\n",
       "      <td>0</td>\n",
       "      <td>0</td>\n",
       "      <td>0</td>\n",
       "      <td>0</td>\n",
       "      <td>0</td>\n",
       "      <td>0</td>\n",
       "      <td>0</td>\n",
       "      <td>0</td>\n",
       "      <td>0</td>\n",
       "    </tr>\n",
       "    <tr>\n",
       "      <th>3</th>\n",
       "      <td>Bellevue</td>\n",
       "      <td>0.198444</td>\n",
       "      <td>0.4</td>\n",
       "      <td>0.333333</td>\n",
       "      <td>1.0</td>\n",
       "      <td>0.486547</td>\n",
       "      <td>0.163889</td>\n",
       "      <td>0.968270</td>\n",
       "      <td>0.364562</td>\n",
       "      <td>0.342857</td>\n",
       "      <td>...</td>\n",
       "      <td>0</td>\n",
       "      <td>0</td>\n",
       "      <td>0</td>\n",
       "      <td>0</td>\n",
       "      <td>0</td>\n",
       "      <td>0</td>\n",
       "      <td>0</td>\n",
       "      <td>0</td>\n",
       "      <td>0</td>\n",
       "      <td>0</td>\n",
       "    </tr>\n",
       "    <tr>\n",
       "      <th>4</th>\n",
       "      <td>Lockridge</td>\n",
       "      <td>0.252918</td>\n",
       "      <td>0.8</td>\n",
       "      <td>0.333333</td>\n",
       "      <td>1.0</td>\n",
       "      <td>0.348281</td>\n",
       "      <td>0.363889</td>\n",
       "      <td>0.990580</td>\n",
       "      <td>0.228106</td>\n",
       "      <td>0.190476</td>\n",
       "      <td>...</td>\n",
       "      <td>0</td>\n",
       "      <td>0</td>\n",
       "      <td>0</td>\n",
       "      <td>0</td>\n",
       "      <td>0</td>\n",
       "      <td>0</td>\n",
       "      <td>0</td>\n",
       "      <td>0</td>\n",
       "      <td>0</td>\n",
       "      <td>0</td>\n",
       "    </tr>\n",
       "  </tbody>\n",
       "</table>\n",
       "<p>3 rows × 276 columns</p>\n",
       "</div>"
      ],
      "text/plain": [
       "       SUBURB     PRICE  BEDROOMS  BATHROOMS  GARAGE  LAND_AREA  FLOOR_AREA  \\\n",
       "0  South Lake  0.439689       0.8   0.666667     1.0   0.448430    0.444444   \n",
       "3    Bellevue  0.198444       0.4   0.333333     1.0   0.486547    0.163889   \n",
       "4   Lockridge  0.252918       0.8   0.333333     1.0   0.348281    0.363889   \n",
       "\n",
       "   BUILD_YEAR  CBD_DIST  NEAREST_STN_DIST  ...  Willagee  Willetton  Wilson  \\\n",
       "0    0.993059  0.372709          0.171429  ...         0          0       0   \n",
       "3    0.968270  0.364562          0.342857  ...         0          0       0   \n",
       "4    0.990580  0.228106          0.190476  ...         0          0       0   \n",
       "\n",
       "   Winthrop  Woodbridge  Woodlands  Woodvale  Yanchep  Yangebup  Yokine  \n",
       "0         0           0          0         0        0         0       0  \n",
       "3         0           0          0         0        0         0       0  \n",
       "4         0           0          0         0        0         0       0  \n",
       "\n",
       "[3 rows x 276 columns]"
      ]
     },
     "execution_count": 24,
     "metadata": {},
     "output_type": "execute_result"
    }
   ],
   "source": [
    "# Merge dummy columns with data\n",
    "\n",
    "df7 = pd.concat([df6,dummies],axis='columns')\n",
    "df7.head(3)"
   ]
  },
  {
   "cell_type": "code",
   "execution_count": 25,
   "metadata": {},
   "outputs": [
    {
     "data": {
      "text/html": [
       "<div>\n",
       "<style scoped>\n",
       "    .dataframe tbody tr th:only-of-type {\n",
       "        vertical-align: middle;\n",
       "    }\n",
       "\n",
       "    .dataframe tbody tr th {\n",
       "        vertical-align: top;\n",
       "    }\n",
       "\n",
       "    .dataframe thead th {\n",
       "        text-align: right;\n",
       "    }\n",
       "</style>\n",
       "<table border=\"1\" class=\"dataframe\">\n",
       "  <thead>\n",
       "    <tr style=\"text-align: right;\">\n",
       "      <th></th>\n",
       "      <th>PRICE</th>\n",
       "      <th>BEDROOMS</th>\n",
       "      <th>BATHROOMS</th>\n",
       "      <th>GARAGE</th>\n",
       "      <th>LAND_AREA</th>\n",
       "      <th>FLOOR_AREA</th>\n",
       "      <th>BUILD_YEAR</th>\n",
       "      <th>CBD_DIST</th>\n",
       "      <th>NEAREST_STN_DIST</th>\n",
       "      <th>NEAREST_SCH_DIST</th>\n",
       "      <th>...</th>\n",
       "      <th>White Gum Valley</th>\n",
       "      <th>Willagee</th>\n",
       "      <th>Willetton</th>\n",
       "      <th>Wilson</th>\n",
       "      <th>Winthrop</th>\n",
       "      <th>Woodbridge</th>\n",
       "      <th>Woodlands</th>\n",
       "      <th>Woodvale</th>\n",
       "      <th>Yanchep</th>\n",
       "      <th>Yangebup</th>\n",
       "    </tr>\n",
       "  </thead>\n",
       "  <tbody>\n",
       "    <tr>\n",
       "      <th>0</th>\n",
       "      <td>0.439689</td>\n",
       "      <td>0.8</td>\n",
       "      <td>0.666667</td>\n",
       "      <td>1.0</td>\n",
       "      <td>0.448430</td>\n",
       "      <td>0.444444</td>\n",
       "      <td>0.993059</td>\n",
       "      <td>0.372709</td>\n",
       "      <td>0.171429</td>\n",
       "      <td>0.211224</td>\n",
       "      <td>...</td>\n",
       "      <td>0</td>\n",
       "      <td>0</td>\n",
       "      <td>0</td>\n",
       "      <td>0</td>\n",
       "      <td>0</td>\n",
       "      <td>0</td>\n",
       "      <td>0</td>\n",
       "      <td>0</td>\n",
       "      <td>0</td>\n",
       "      <td>0</td>\n",
       "    </tr>\n",
       "    <tr>\n",
       "      <th>3</th>\n",
       "      <td>0.198444</td>\n",
       "      <td>0.4</td>\n",
       "      <td>0.333333</td>\n",
       "      <td>1.0</td>\n",
       "      <td>0.486547</td>\n",
       "      <td>0.163889</td>\n",
       "      <td>0.968270</td>\n",
       "      <td>0.364562</td>\n",
       "      <td>0.342857</td>\n",
       "      <td>0.400765</td>\n",
       "      <td>...</td>\n",
       "      <td>0</td>\n",
       "      <td>0</td>\n",
       "      <td>0</td>\n",
       "      <td>0</td>\n",
       "      <td>0</td>\n",
       "      <td>0</td>\n",
       "      <td>0</td>\n",
       "      <td>0</td>\n",
       "      <td>0</td>\n",
       "      <td>0</td>\n",
       "    </tr>\n",
       "    <tr>\n",
       "      <th>4</th>\n",
       "      <td>0.252918</td>\n",
       "      <td>0.8</td>\n",
       "      <td>0.333333</td>\n",
       "      <td>1.0</td>\n",
       "      <td>0.348281</td>\n",
       "      <td>0.363889</td>\n",
       "      <td>0.990580</td>\n",
       "      <td>0.228106</td>\n",
       "      <td>0.190476</td>\n",
       "      <td>0.386224</td>\n",
       "      <td>...</td>\n",
       "      <td>0</td>\n",
       "      <td>0</td>\n",
       "      <td>0</td>\n",
       "      <td>0</td>\n",
       "      <td>0</td>\n",
       "      <td>0</td>\n",
       "      <td>0</td>\n",
       "      <td>0</td>\n",
       "      <td>0</td>\n",
       "      <td>0</td>\n",
       "    </tr>\n",
       "  </tbody>\n",
       "</table>\n",
       "<p>3 rows × 274 columns</p>\n",
       "</div>"
      ],
      "text/plain": [
       "      PRICE  BEDROOMS  BATHROOMS  GARAGE  LAND_AREA  FLOOR_AREA  BUILD_YEAR  \\\n",
       "0  0.439689       0.8   0.666667     1.0   0.448430    0.444444    0.993059   \n",
       "3  0.198444       0.4   0.333333     1.0   0.486547    0.163889    0.968270   \n",
       "4  0.252918       0.8   0.333333     1.0   0.348281    0.363889    0.990580   \n",
       "\n",
       "   CBD_DIST  NEAREST_STN_DIST  NEAREST_SCH_DIST  ...  White Gum Valley  \\\n",
       "0  0.372709          0.171429          0.211224  ...                 0   \n",
       "3  0.364562          0.342857          0.400765  ...                 0   \n",
       "4  0.228106          0.190476          0.386224  ...                 0   \n",
       "\n",
       "   Willagee  Willetton  Wilson  Winthrop  Woodbridge  Woodlands  Woodvale  \\\n",
       "0         0          0       0         0           0          0         0   \n",
       "3         0          0       0         0           0          0         0   \n",
       "4         0          0       0         0           0          0         0   \n",
       "\n",
       "   Yanchep  Yangebup  \n",
       "0        0         0  \n",
       "3        0         0  \n",
       "4        0         0  \n",
       "\n",
       "[3 rows x 274 columns]"
      ]
     },
     "execution_count": 25,
     "metadata": {},
     "output_type": "execute_result"
    }
   ],
   "source": [
    "# Drop 'SUBURB' column \n",
    "# We have to drop one newly generated column in order to avoide the Dummy Variable trap. \n",
    "# Therefore, 'Yokine' column will be dropped\n",
    "\n",
    "df8 = df7.drop(['SUBURB', 'Yokine'],axis='columns')\n",
    "df8.head(3)"
   ]
  },
  {
   "cell_type": "markdown",
   "metadata": {},
   "source": [
    "<h2 style='color:#205be6'>Split Train data and Test data</h2>"
   ]
  },
  {
   "cell_type": "code",
   "execution_count": 26,
   "metadata": {},
   "outputs": [],
   "source": [
    "# Split df into X and y\n",
    "\n",
    "y = df8['PRICE']\n",
    "X = df8.drop('PRICE', axis=1)"
   ]
  },
  {
   "cell_type": "code",
   "execution_count": 27,
   "metadata": {},
   "outputs": [],
   "source": [
    "# Train-Test split\n",
    "\n",
    "X_train, X_test, y_train, y_test = train_test_split(X, y, train_size=0.8, shuffle=True, random_state=1)"
   ]
  },
  {
   "cell_type": "markdown",
   "metadata": {},
   "source": [
    "<h2 style='color:#205be6'>Train the model using different algorithms</h2>"
   ]
  },
  {
   "cell_type": "code",
   "execution_count": 28,
   "metadata": {},
   "outputs": [
    {
     "data": {
      "text/plain": [
       "LinearRegression()"
      ]
     },
     "execution_count": 28,
     "metadata": {},
     "output_type": "execute_result"
    }
   ],
   "source": [
    "# Linear Regression\n",
    "\n",
    "linearRegressionModel = LinearRegression()\n",
    "linearRegressionModel.fit(X_train, y_train)"
   ]
  },
  {
   "cell_type": "code",
   "execution_count": 29,
   "metadata": {},
   "outputs": [
    {
     "data": {
      "text/plain": [
       "Ridge()"
      ]
     },
     "execution_count": 29,
     "metadata": {},
     "output_type": "execute_result"
    }
   ],
   "source": [
    "# Ridge Regression\n",
    "\n",
    "ridgeRegressionModel = Ridge()\n",
    "ridgeRegressionModel.fit(X_train, y_train)"
   ]
  },
  {
   "cell_type": "code",
   "execution_count": 30,
   "metadata": {},
   "outputs": [
    {
     "data": {
      "text/plain": [
       "DecisionTreeRegressor()"
      ]
     },
     "execution_count": 30,
     "metadata": {},
     "output_type": "execute_result"
    }
   ],
   "source": [
    "# DecisionTree Regression\n",
    "\n",
    "decisionTreeRegressionModel = DecisionTreeRegressor()\n",
    "decisionTreeRegressionModel.fit(X_train, y_train)"
   ]
  },
  {
   "cell_type": "code",
   "execution_count": 31,
   "metadata": {},
   "outputs": [
    {
     "data": {
      "text/plain": [
       "MLPRegressor()"
      ]
     },
     "execution_count": 31,
     "metadata": {},
     "output_type": "execute_result"
    }
   ],
   "source": [
    "# MLP Regression\n",
    "\n",
    "MLPRegressionModel = MLPRegressor()\n",
    "MLPRegressionModel.fit(X_train, y_train)"
   ]
  },
  {
   "cell_type": "markdown",
   "metadata": {},
   "source": [
    "<h2 style='color:#205be6'>Test the Models - R squared score</h2>"
   ]
  },
  {
   "cell_type": "code",
   "execution_count": 32,
   "metadata": {},
   "outputs": [
    {
     "data": {
      "text/plain": [
       "0.8169196711399689"
      ]
     },
     "execution_count": 32,
     "metadata": {},
     "output_type": "execute_result"
    }
   ],
   "source": [
    "# For Linear Regression\n",
    "\n",
    "linearRegressionModel.score(X_test, y_test)"
   ]
  },
  {
   "cell_type": "code",
   "execution_count": 33,
   "metadata": {},
   "outputs": [
    {
     "data": {
      "text/plain": [
       "0.8169688264755683"
      ]
     },
     "execution_count": 33,
     "metadata": {},
     "output_type": "execute_result"
    }
   ],
   "source": [
    "# For Ridge Regression\n",
    "\n",
    "ridgeRegressionModel.score(X_test, y_test)"
   ]
  },
  {
   "cell_type": "code",
   "execution_count": 34,
   "metadata": {},
   "outputs": [
    {
     "data": {
      "text/plain": [
       "0.5508528223435964"
      ]
     },
     "execution_count": 34,
     "metadata": {},
     "output_type": "execute_result"
    }
   ],
   "source": [
    "# For DecisionTree Regression\n",
    "\n",
    "decisionTreeRegressionModel.score(X_test, y_test)"
   ]
  },
  {
   "cell_type": "code",
   "execution_count": 35,
   "metadata": {},
   "outputs": [
    {
     "data": {
      "text/plain": [
       "0.8245795278448144"
      ]
     },
     "execution_count": 35,
     "metadata": {},
     "output_type": "execute_result"
    }
   ],
   "source": [
    "# For MLP Regression\n",
    "\n",
    "MLPRegressionModel.score(X_test, y_test)"
   ]
  },
  {
   "cell_type": "markdown",
   "metadata": {},
   "source": [
    "<h2 style='color:#205be6'>Test the Models - K Fold cross validation</h2>"
   ]
  },
  {
   "cell_type": "code",
   "execution_count": 36,
   "metadata": {},
   "outputs": [
    {
     "data": {
      "text/plain": [
       "array([0.80864978, 0.82869956, 0.81891208, 0.82138538, 0.82070507])"
      ]
     },
     "execution_count": 36,
     "metadata": {},
     "output_type": "execute_result"
    }
   ],
   "source": [
    "# For Linear Regression\n",
    "\n",
    "cv = ShuffleSplit(n_splits=5, test_size=0.2, random_state=0)\n",
    "\n",
    "cross_val_score(LinearRegression(), X, y, cv=cv)"
   ]
  },
  {
   "cell_type": "code",
   "execution_count": 37,
   "metadata": {},
   "outputs": [
    {
     "data": {
      "text/plain": [
       "array([0.81078198, 0.82802464, 0.81824411, 0.8220282 , 0.82098831])"
      ]
     },
     "execution_count": 37,
     "metadata": {},
     "output_type": "execute_result"
    }
   ],
   "source": [
    "# For Ridge Regression\n",
    "\n",
    "cv = ShuffleSplit(n_splits=5, test_size=0.2, random_state=0)\n",
    "\n",
    "cross_val_score(Ridge(), X, y, cv=cv)"
   ]
  },
  {
   "cell_type": "code",
   "execution_count": 38,
   "metadata": {},
   "outputs": [
    {
     "data": {
      "text/plain": [
       "array([0.56187628, 0.59307737, 0.57133004, 0.55697049, 0.54819326])"
      ]
     },
     "execution_count": 38,
     "metadata": {},
     "output_type": "execute_result"
    }
   ],
   "source": [
    "# For DecisionTree Regression\n",
    "\n",
    "cv = ShuffleSplit(n_splits=5, test_size=0.2, random_state=0)\n",
    "\n",
    "cross_val_score(DecisionTreeRegressor(), X, y, cv=cv)"
   ]
  },
  {
   "cell_type": "code",
   "execution_count": 39,
   "metadata": {},
   "outputs": [
    {
     "data": {
      "text/plain": [
       "array([0.81317091, 0.83399426, 0.81801513, 0.82837362, 0.82191037])"
      ]
     },
     "execution_count": 39,
     "metadata": {},
     "output_type": "execute_result"
    }
   ],
   "source": [
    "# For MLP Regression\n",
    "\n",
    "cv = ShuffleSplit(n_splits=5, test_size=0.2, random_state=0)\n",
    "\n",
    "cross_val_score(MLPRegressor(), X, y, cv=cv)"
   ]
  },
  {
   "cell_type": "markdown",
   "metadata": {},
   "source": [
    "<h3 style='color:#00d458'> Based on the results of both R squared score and K Fold cross validation approaches, we can say that MLP Regression, Linear Regression and Ridge Regression give better prediction in this scenario.</h3>"
   ]
  },
  {
   "cell_type": "markdown",
   "metadata": {},
   "source": [
    "\n",
    "<h2 style='color:#205be6'>Now let's further test the fitness MLP, Linear and Ridge regression models.</h2>\n",
    "<h3 style='color:#205be6'>According to previous test results, below test should show that, the models have proper fitness.</h3>"
   ]
  },
  {
   "cell_type": "code",
   "execution_count": 40,
   "metadata": {},
   "outputs": [],
   "source": [
    "# Below function will draw the predicted prices graph and actual prices graph in same plot\n",
    "\n",
    "#Red Plot - Actual Values\n",
    "#Blue Plot - Predicted Values\n",
    "\n",
    "def DistributionPlot(RedFunction, BlueFunction):\n",
    "    plt.figure(figsize=(10, 10))\n",
    "\n",
    "    ax1 = sns.distplot(RedFunction, hist=False, color=\"r\")\n",
    "    ax2 = sns.distplot(BlueFunction, hist=False, color=\"b\", ax=ax1)\n",
    "\n",
    "    plt.show()\n",
    "    plt.close()"
   ]
  },
  {
   "cell_type": "code",
   "execution_count": 41,
   "metadata": {},
   "outputs": [
    {
     "data": {
      "image/png": "[encoded data removed]",
      "text/plain": [
       "<Figure size 720x720 with 1 Axes>"
      ]
     },
     "metadata": {
      "needs_background": "light"
     },
     "output_type": "display_data"
    }
   ],
   "source": [
    "# For Linear Regression\n",
    "\n",
    "# get predicted y values for X_Test values and store in 'yhat_test' variable\n",
    "\n",
    "yhat_test_linear = linearRegressionModel.predict(X_test)\n",
    "\n",
    "# Draw the graphs\n",
    "DistributionPlot(y_test,yhat_test_linear)"
   ]
  },
  {
   "cell_type": "code",
   "execution_count": 42,
   "metadata": {},
   "outputs": [
    {
     "data": {
      "image/png": "[encoded data removed]",
      "text/plain": [
       "<Figure size 720x720 with 1 Axes>"
      ]
     },
     "metadata": {
      "needs_background": "light"
     },
     "output_type": "display_data"
    }
   ],
   "source": [
    "# For Ridge Regression\n",
    "\n",
    "# get predicted y values for X_Test values and store in 'yhat_test' variable\n",
    "\n",
    "yhat_test_ridge = ridgeRegressionModel.predict(X_test)\n",
    "\n",
    "# Draw the graphs\n",
    "DistributionPlot(y_test,yhat_test_ridge)"
   ]
  },
  {
   "cell_type": "code",
   "execution_count": 43,
   "metadata": {},
   "outputs": [
    {
     "data": {
      "image/png": "[encoded data removed]",
      "text/plain": [
       "<Figure size 720x720 with 1 Axes>"
      ]
     },
     "metadata": {
      "needs_background": "light"
     },
     "output_type": "display_data"
    }
   ],
   "source": [
    "# For MLP Regression\n",
    "\n",
    "# get predicted y values for X_Test values and store in 'yhat_test' variable\n",
    "\n",
    "yhat_test_MLP = MLPRegressionModel.predict(X_test)\n",
    "\n",
    "# Draw the graphs\n",
    "DistributionPlot(y_test,yhat_test_MLP)"
   ]
  },
  {
   "cell_type": "markdown",
   "metadata": {},
   "source": [
    "<h3 style='color:#00d458'> For more comfirmation we can see the Mean Squared Error values for these models. The lower the mean squared error, the closer you are to determining the best fit rows.</h3>"
   ]
  },
  {
   "cell_type": "markdown",
   "metadata": {},
   "source": [
    "<h2 style='color:#205be6'>Test the Models - Mean Squared Error</h2>"
   ]
  },
  {
   "cell_type": "code",
   "execution_count": 47,
   "metadata": {},
   "outputs": [
    {
     "data": {
      "text/plain": [
       "0.005612099441220501"
      ]
     },
     "execution_count": 47,
     "metadata": {},
     "output_type": "execute_result"
    }
   ],
   "source": [
    "# Mean Squared Error for Linear Regression\n",
    "\n",
    "mean_squared_error(y_test,yhat_test_linear)"
   ]
  },
  {
   "cell_type": "code",
   "execution_count": 48,
   "metadata": {},
   "outputs": [
    {
     "data": {
      "text/plain": [
       "0.00561059264563428"
      ]
     },
     "execution_count": 48,
     "metadata": {},
     "output_type": "execute_result"
    }
   ],
   "source": [
    "# Mean Squared Error for Ridge Regression\n",
    "\n",
    "mean_squared_error(y_test,yhat_test_ridge)"
   ]
  },
  {
   "cell_type": "code",
   "execution_count": 49,
   "metadata": {},
   "outputs": [
    {
     "data": {
      "text/plain": [
       "0.00537729607484706"
      ]
     },
     "execution_count": 49,
     "metadata": {},
     "output_type": "execute_result"
    }
   ],
   "source": [
    "# Mean Squared Error for MLP Regression\n",
    "\n",
    "mean_squared_error(y_test,yhat_test_MLP)"
   ]
  }
 ],
 "metadata": {
  "kernelspec": {
   "display_name": "Python 3",
   "language": "python",
   "name": "python3"
  },
  "language_info": {
   "codemirror_mode": {
    "name": "ipython",
    "version": 3
   },
   "file_extension": ".py",
   "mimetype": "text/x-python",
   "name": "python",
   "nbconvert_exporter": "python",
   "pygments_lexer": "ipython3",
   "version": "3.8.5"
  }
 },
 "nbformat": 4,
 "nbformat_minor": 2
}
